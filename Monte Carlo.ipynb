{
 "cells": [
  {
   "cell_type": "markdown",
   "id": "d14f8ea4",
   "metadata": {},
   "source": [
    "For most business users, they've been exposed to Monte Carlo methods in school through proprietary and expensive Excel Add-ins, and then they are set free into a work environment where those expensive add-ins are no longer available. This is usually the end of Monte Carlo for them, but it's quite trivial to do in Python.\n",
    "\n",
    "Repeated random sampling from a probability distribution in Python\n",
    "\n",
    "References:\n",
    "1. [Wikipedia, Monte Carlo Method](https://en.wikipedia.org/wiki/Monte_Carlo_method)\n",
    "2. [numpy.random.triangular](https://numpy.org/doc/stable/reference/random/generated/numpy.random.triangular.html)\n",
    "    * `triangular(left, mode, right, size=None)`\n",
    "3. [Wikipedia, Triangular distribution](https://en.wikipedia.org/wiki/Triangular_distribution)\n",
    "4. [numpy.random.choice](https://numpy.org/doc/stable/reference/random/generated/numpy.random.choice.html)\n",
    "    * `choice(a, size=None, replace=True, p=None)`"
   ]
  },
  {
   "cell_type": "code",
   "execution_count": 1,
   "id": "38f712fc",
   "metadata": {},
   "outputs": [],
   "source": [
    "import matplotlib.pyplot as plt\n",
    "import numpy as np\n",
    "\n",
    "# set a seed for reproducibility\n",
    "np.random.seed(42)"
   ]
  },
  {
   "cell_type": "markdown",
   "id": "75e2ad1c",
   "metadata": {},
   "source": [
    "We'll rely on numpy's methods to generate arrays of random samples. Two methods I'll focus on are using draws from a triangular distribution with `np.random.triangular` and a discrete distribution using `np.random.choice`. "
   ]
  },
  {
   "cell_type": "markdown",
   "id": "4f189b71",
   "metadata": {},
   "source": [
    "## Drawing from a triangular distribution\n",
    "\n",
    "In a business setting, when dealing with uncertainty, domain experts will phrase their assessment of probabilities using terms like 'low-base-high case' or 'bull-base-bear case' (if you're in finance). In other words, they think about the extreme upper and lower possibilities and a 'most likely' case. This can be translated into a triangular distribution and can be generated quickly in `numpy`:"
   ]
  },
  {
   "cell_type": "code",
   "execution_count": 2,
   "id": "0f806020",
   "metadata": {},
   "outputs": [
    {
     "data": {
      "text/plain": [
       "array([2.73098843, 4.37207839, 3.53574303, 3.20814841, 2.11720594,\n",
       "       2.11711958, 1.68166627, 3.96530641, 3.2136406 , 3.4717921 ])"
      ]
     },
     "execution_count": 2,
     "metadata": {},
     "output_type": "execute_result"
    }
   ],
   "source": [
    "np.random.triangular(left=1, mode=3, right=5, size=10)"
   ]
  },
  {
   "cell_type": "code",
   "execution_count": 3,
   "id": "e6507998",
   "metadata": {},
   "outputs": [
    {
     "name": "stdout",
     "output_type": "stream",
     "text": [
      "435 ms ± 3.02 ms per loop (mean ± std. dev. of 7 runs, 1 loop each)\n"
     ]
    },
    {
     "data": {
      "image/png": "[encoded data removed]",
      "text/plain": [
       "<Figure size 432x288 with 1 Axes>"
      ]
     },
     "metadata": {
      "needs_background": "light"
     },
     "output_type": "display_data"
    }
   ],
   "source": [
    "%%timeit\n",
    "samples = np.random.triangular(left=1, mode=3, right=5, size=10**7)\n",
    "plt.hist(samples, bins=500)"
   ]
  },
  {
   "cell_type": "markdown",
   "id": "985cf141",
   "metadata": {},
   "source": [
    "10M samples takes about ~500 ms or about half a second."
   ]
  },
  {
   "cell_type": "markdown",
   "id": "ffb782b7",
   "metadata": {},
   "source": [
    "## Drawing from a discrete distribution"
   ]
  },
  {
   "cell_type": "code",
   "execution_count": 4,
   "id": "751daf53",
   "metadata": {},
   "outputs": [
    {
     "data": {
      "text/plain": [
       "array([3, 3, 3, 3, 1, 3, 5, 3, 3, 3])"
      ]
     },
     "execution_count": 4,
     "metadata": {},
     "output_type": "execute_result"
    }
   ],
   "source": [
    "choices = [1, 3, 5]\n",
    "probabilities = [.1, .8, .1] # must sum to 1\n",
    "np.random.choice(a=choices, size=10, replace=True, p=probabilities)"
   ]
  },
  {
   "cell_type": "code",
   "execution_count": 6,
   "id": "0fb1de9f",
   "metadata": {},
   "outputs": [
    {
     "name": "stdout",
     "output_type": "stream",
     "text": [
      "46.2 ms ± 3.16 ms per loop (mean ± std. dev. of 7 runs, 10 loops each)\n"
     ]
    },
    {
     "data": {
      "image/png": "[encoded data removed]",
      "text/plain": [
       "<Figure size 432x288 with 1 Axes>"
      ]
     },
     "metadata": {
      "needs_background": "light"
     },
     "output_type": "display_data"
    }
   ],
   "source": [
    "%%timeit\n",
    "discrete_samples = np.random.choice(a=choices, size=10**6, replace=True, p=probabilities)\n",
    "plt.hist(discrete_samples, bins=3)"
   ]
  },
  {
   "cell_type": "markdown",
   "id": "e9fb786a",
   "metadata": {},
   "source": [
    "`np.random.choice` takes significantly longer at 13 seconds at 10M samples, so we run it with 1M samples for now just to demo it."
   ]
  },
  {
   "cell_type": "markdown",
   "id": "e7f3e016",
   "metadata": {},
   "source": [
    "## By Example\n",
    "\n",
    "Here's a simple example from corporate finance on when you'll use a Monte Carlo method. \n",
    "\n",
    "You are asked to estimate the potential costs that your company will incur if they decide to invest in a new project. We have our engineers estimate how long it'll take and how many resources they think they might need, and your job is to estimate the cost of the project. \n",
    "\n",
    "There are three variables in determining the cost of the project:\n",
    "* How many people it will take\n",
    "* How long it will take"
   ]
  },
  {
   "cell_type": "code",
   "execution_count": 31,
   "id": "9b3d51b7",
   "metadata": {},
   "outputs": [],
   "source": [
    "people = np.random.choice(a=[1,2,3], size=10**7, replace=True, p=[.2,.6,.2])\n",
    "time = np.random.choice(a=[1,3,5], size=10**7, replace=True, p=[.2, .7, .1])\n",
    "labor_rate = 50"
   ]
  },
  {
   "cell_type": "code",
   "execution_count": 32,
   "id": "cf7ce42c",
   "metadata": {},
   "outputs": [],
   "source": [
    "cost = people * time * labor_rate"
   ]
  },
  {
   "cell_type": "code",
   "execution_count": 33,
   "id": "0f25121d",
   "metadata": {},
   "outputs": [
    {
     "data": {
      "image/png": "[encoded data removed]",
      "text/plain": [
       "<Figure size 432x288 with 1 Axes>"
      ]
     },
     "metadata": {
      "needs_background": "light"
     },
     "output_type": "display_data"
    }
   ],
   "source": [
    "fig = plt.hist(cost, bins=20)"
   ]
  },
  {
   "cell_type": "code",
   "execution_count": 34,
   "id": "4eb5e2d3",
   "metadata": {},
   "outputs": [
    {
     "data": {
      "text/plain": [
       "279.898715"
      ]
     },
     "execution_count": 34,
     "metadata": {},
     "output_type": "execute_result"
    }
   ],
   "source": [
    "np.mean(cost)"
   ]
  },
  {
   "cell_type": "markdown",
   "id": "59f6635e",
   "metadata": {},
   "source": [
    "Now you could have calculated the average quite easily using your inputs (and this is typically where most analysts will stop), but the nice thing about Monte Carlo is that you can get additional numerical information from this simulation - like the median, standard deviation, mode, etc:"
   ]
  },
  {
   "cell_type": "code",
   "execution_count": 35,
   "id": "5386fbf0",
   "metadata": {},
   "outputs": [
    {
     "data": {
      "text/plain": [
       "300.0"
      ]
     },
     "execution_count": 35,
     "metadata": {},
     "output_type": "execute_result"
    }
   ],
   "source": [
    "np.median(cost)"
   ]
  },
  {
   "cell_type": "code",
   "execution_count": 36,
   "id": "166c24c3",
   "metadata": {},
   "outputs": [
    {
     "data": {
      "text/plain": [
       "143.475855429925"
      ]
     },
     "execution_count": 36,
     "metadata": {},
     "output_type": "execute_result"
    }
   ],
   "source": [
    "np.std(cost)"
   ]
  },
  {
   "cell_type": "markdown",
   "id": "3ae0654f",
   "metadata": {},
   "source": [
    "And you can get confidence intervals:"
   ]
  },
  {
   "cell_type": "code",
   "execution_count": 37,
   "id": "4c73049d",
   "metadata": {},
   "outputs": [
    {
     "data": {
      "text/plain": [
       "(100.0, 450.0)"
      ]
     },
     "execution_count": 37,
     "metadata": {},
     "output_type": "execute_result"
    }
   ],
   "source": [
    "# 80% confint\n",
    "(np.percentile(cost, 10), np.percentile(cost, 90))"
   ]
  },
  {
   "cell_type": "markdown",
   "id": "7bbb4439",
   "metadata": {},
   "source": [
    "Now let's say that we want to add another variable - revenue. We ask our revenue analysts and they think the project could bring in either \\\\$10 or \\\\$15 per unit (it's a 50-50 chance of either) and volumes will be around 1800 units, with a best case of 2400 and worst case 1000. \n",
    "\n",
    "We'll model the price assumption as a discrete distribution and volumes as a triangular distribution:"
   ]
  },
  {
   "cell_type": "code",
   "execution_count": 86,
   "id": "71a1f9d5",
   "metadata": {},
   "outputs": [],
   "source": [
    "price = [10, 15]\n",
    "price_probabilities = [0.5, 0.5]"
   ]
  },
  {
   "cell_type": "code",
   "execution_count": 87,
   "id": "14fbc2df",
   "metadata": {},
   "outputs": [],
   "source": [
    "prices = np.random.choice(price, size=10**7, replace=True, p=price_probabilities)\n",
    "volumes = np.random.triangular(left=1000, mode=1800, right=2400, size=10**7)\n",
    "# Calculate the revenues\n",
    "revenue = prices * volumes"
   ]
  },
  {
   "cell_type": "code",
   "execution_count": 88,
   "id": "324ffa8f",
   "metadata": {},
   "outputs": [
    {
     "data": {
      "image/png": "[encoded data removed]",
      "text/plain": [
       "<Figure size 432x288 with 1 Axes>"
      ]
     },
     "metadata": {
      "needs_background": "light"
     },
     "output_type": "display_data"
    }
   ],
   "source": [
    "fig = plt.hist(revenue, bins=100)"
   ]
  },
  {
   "cell_type": "markdown",
   "id": "0a5726ab",
   "metadata": {},
   "source": [
    "We can run our statistics again:"
   ]
  },
  {
   "cell_type": "code",
   "execution_count": 89,
   "id": "2c6f1879",
   "metadata": {},
   "outputs": [
    {
     "data": {
      "text/plain": [
       "21666.70489902372"
      ]
     },
     "execution_count": 89,
     "metadata": {},
     "output_type": "execute_result"
    }
   ],
   "source": [
    "np.mean(revenue)"
   ]
  },
  {
   "cell_type": "code",
   "execution_count": 90,
   "id": "164b24b1",
   "metadata": {},
   "outputs": [
    {
     "data": {
      "text/plain": [
       "20705.70824132701"
      ]
     },
     "execution_count": 90,
     "metadata": {},
     "output_type": "execute_result"
    }
   ],
   "source": [
    "np.median(revenue)"
   ]
  },
  {
   "cell_type": "code",
   "execution_count": 91,
   "id": "41b8979b",
   "metadata": {},
   "outputs": [
    {
     "data": {
      "text/plain": [
       "5669.020124454094"
      ]
     },
     "execution_count": 91,
     "metadata": {},
     "output_type": "execute_result"
    }
   ],
   "source": [
    "np.std(revenue)"
   ]
  },
  {
   "cell_type": "code",
   "execution_count": 92,
   "id": "8a3ac3f5",
   "metadata": {},
   "outputs": [
    {
     "data": {
      "text/plain": [
       "(14733.504705181971, 29852.175758982165)"
      ]
     },
     "execution_count": 92,
     "metadata": {},
     "output_type": "execute_result"
    }
   ],
   "source": [
    "(np.percentile(revenue, 10), np.percentile(revenue, 90))"
   ]
  },
  {
   "cell_type": "markdown",
   "id": "e8995dfb",
   "metadata": {},
   "source": [
    "Finally, we can take our results and check the expected profit margin from this effort: (imagine this is a digital product that doesn't have any costs)"
   ]
  },
  {
   "cell_type": "code",
   "execution_count": 93,
   "id": "ef56c356",
   "metadata": {},
   "outputs": [],
   "source": [
    "margin = revenue - cost"
   ]
  },
  {
   "cell_type": "code",
   "execution_count": 94,
   "id": "364d26d8",
   "metadata": {},
   "outputs": [
    {
     "data": {
      "image/png": "[encoded data removed]",
      "text/plain": [
       "<Figure size 432x288 with 1 Axes>"
      ]
     },
     "metadata": {
      "needs_background": "light"
     },
     "output_type": "display_data"
    }
   ],
   "source": [
    "fig = plt.hist(margin, bins=300)"
   ]
  },
  {
   "cell_type": "code",
   "execution_count": 95,
   "id": "5713f660",
   "metadata": {},
   "outputs": [
    {
     "data": {
      "text/plain": [
       "21386.806184023717"
      ]
     },
     "execution_count": 95,
     "metadata": {},
     "output_type": "execute_result"
    }
   ],
   "source": [
    "np.mean(margin)"
   ]
  },
  {
   "cell_type": "code",
   "execution_count": 96,
   "id": "f47957ae",
   "metadata": {},
   "outputs": [
    {
     "data": {
      "text/plain": [
       "20427.216630348783"
      ]
     },
     "execution_count": 96,
     "metadata": {},
     "output_type": "execute_result"
    }
   ],
   "source": [
    "np.median(margin)"
   ]
  },
  {
   "cell_type": "code",
   "execution_count": 97,
   "id": "a1d84408",
   "metadata": {},
   "outputs": [
    {
     "data": {
      "text/plain": [
       "5670.856944173494"
      ]
     },
     "execution_count": 97,
     "metadata": {},
     "output_type": "execute_result"
    }
   ],
   "source": [
    "np.std(margin)"
   ]
  },
  {
   "cell_type": "code",
   "execution_count": 98,
   "id": "0f469693",
   "metadata": {},
   "outputs": [
    {
     "data": {
      "text/plain": [
       "(14451.087496083595, 29574.72188314046)"
      ]
     },
     "execution_count": 98,
     "metadata": {},
     "output_type": "execute_result"
    }
   ],
   "source": [
    "# 80% confint\n",
    "(np.percentile(margin, 10), np.percentile(margin, 90))"
   ]
  },
  {
   "cell_type": "markdown",
   "id": "c9c97e3f",
   "metadata": {},
   "source": [
    "So we see that it's pretty easy to do quick monte carlo simulations without the need for an expensive Excel add-in package, and it's trivial to add and change requirements to suit your needs."
   ]
  },
  {
   "cell_type": "code",
   "execution_count": null,
   "id": "5b462428",
   "metadata": {},
   "outputs": [],
   "source": []
  }
 ],
 "metadata": {
  "kernelspec": {
   "display_name": "Python 3 (ipykernel)",
   "language": "python",
   "name": "python3"
  },
  "language_info": {
   "codemirror_mode": {
    "name": "ipython",
    "version": 3
   },
   "file_extension": ".py",
   "mimetype": "text/x-python",
   "name": "python",
   "nbconvert_exporter": "python",
   "pygments_lexer": "ipython3",
   "version": "3.8.11"
  }
 },
 "nbformat": 4,
 "nbformat_minor": 5
}
