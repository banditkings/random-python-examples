{
 "cells": [
  {
   "cell_type": "markdown",
   "id": "726afc96",
   "metadata": {},
   "source": [
    "# Bayesian Network Example with `pgmpy` and `pomegranate`"
   ]
  },
  {
   "attachments": {},
   "cell_type": "markdown",
   "id": "d9fe2d80",
   "metadata": {},
   "source": [
    "From the [tutorial](https://pgmpy.org/detailed_notebooks/2.%20Bayesian%20Networks.html), we want to instantiate the network as follows:\n",
    "\n",
    "![fig1](fig1.png)"
   ]
  },
  {
   "cell_type": "markdown",
   "id": "74fa9e85",
   "metadata": {},
   "source": [
    "The above 'student' model describes how grades would be impacted by students intelligence, test difficulty, test grade, and letter grade for the course.\n",
    "\n",
    ">In pgmpy we define the network structure and the CPDs (conditional probability distributions) separately and then associate them with the structure. Here’s an example for defining the above model:\n",
    "\n",
    "* variable_card = variable cardinality, i.e. the number of states the variable can take"
   ]
  },
  {
   "cell_type": "code",
   "execution_count": 79,
   "id": "7005e698",
   "metadata": {},
   "outputs": [],
   "source": [
    "from pgmpy.models import BayesianNetwork\n",
    "from pgmpy.factors.discrete import TabularCPD\n",
    "\n",
    "# Defining the model structure. We can define the network by just passing a list of edges.\n",
    "model = BayesianNetwork([('D', 'G'), ('I', 'G'), ('G', 'L'), ('I', 'S')])"
   ]
  },
  {
   "cell_type": "code",
   "execution_count": 80,
   "id": "0f344ce0",
   "metadata": {},
   "outputs": [
    {
     "data": {
      "text/plain": [
       "True"
      ]
     },
     "execution_count": 80,
     "metadata": {},
     "output_type": "execute_result"
    }
   ],
   "source": [
    "# CPDs can also be defined using the state names of the variables. If the state names are not provided\n",
    "# like in the previous example, pgmpy will automatically assign names as: 0, 1, 2, ....\n",
    "\n",
    "cpd_d_sn = TabularCPD(variable='D', variable_card=2, values=[[0.6], [0.4]], state_names={'D': ['Easy', 'Hard']})\n",
    "cpd_i_sn = TabularCPD(variable='I', variable_card=2, values=[[0.7], [0.3]], state_names={'I': ['Dumb', 'Intelligent']})\n",
    "cpd_g_sn = TabularCPD(variable='G', variable_card=3,\n",
    "                      values=[[0.3, 0.05, 0.9,  0.5],\n",
    "                              [0.4, 0.25, 0.08, 0.3],\n",
    "                              [0.3, 0.7,  0.02, 0.2]],\n",
    "                      evidence=['I', 'D'],\n",
    "                      evidence_card=[2, 2],\n",
    "                      state_names={'G': ['A', 'B', 'C'],\n",
    "                                   'I': ['Dumb', 'Intelligent'],\n",
    "                                   'D': ['Easy', 'Hard']})\n",
    "\n",
    "cpd_l_sn = TabularCPD(variable='L', variable_card=2,\n",
    "                      values=[[0.1, 0.4, 0.99],\n",
    "                              [0.9, 0.6, 0.01]],\n",
    "                      evidence=['G'],\n",
    "                      evidence_card=[3],\n",
    "                      state_names={'L': ['Bad', 'Good'],\n",
    "                                   'G': ['A', 'B', 'C']})\n",
    "\n",
    "cpd_s_sn = TabularCPD(variable='S', variable_card=2,\n",
    "                      values=[[0.95, 0.2],\n",
    "                              [0.05, 0.8]],\n",
    "                      evidence=['I'],\n",
    "                      evidence_card=[2],\n",
    "                      state_names={'S': ['Bad', 'Good'],\n",
    "                                   'I': ['Dumb', 'Intelligent']})\n",
    "\n",
    "# These defined CPDs can be added to the model. Since, the model already has CPDs associated to variables, it will\n",
    "# show warning that pmgpy is now replacing those CPDs with the new ones.\n",
    "model.add_cpds(cpd_d_sn, cpd_i_sn, cpd_g_sn, cpd_l_sn, cpd_s_sn)\n",
    "model.check_model()"
   ]
  },
  {
   "cell_type": "code",
   "execution_count": 81,
   "id": "07850566",
   "metadata": {},
   "outputs": [
    {
     "data": {
      "text/plain": [
       "[<TabularCPD representing P(D:2) at 0x7fcd2d6798b0>,\n",
       " <TabularCPD representing P(I:2) at 0x7fcd2d679850>,\n",
       " <TabularCPD representing P(G:3 | I:2, D:2) at 0x7fcd2d6798e0>,\n",
       " <TabularCPD representing P(L:2 | G:3) at 0x7fcd2d679880>,\n",
       " <TabularCPD representing P(S:2 | I:2) at 0x7fcd2d679910>]"
      ]
     },
     "execution_count": 81,
     "metadata": {},
     "output_type": "execute_result"
    }
   ],
   "source": [
    "# We can now call some methods on the BayesianModel object.\n",
    "model.get_cpds()"
   ]
  },
  {
   "cell_type": "code",
   "execution_count": 83,
   "id": "1e8b8c49",
   "metadata": {},
   "outputs": [
    {
     "name": "stdout",
     "output_type": "stream",
     "text": [
      "+------+---------+---------+----------------+----------------+\n",
      "| I    | I(Dumb) | I(Dumb) | I(Intelligent) | I(Intelligent) |\n",
      "+------+---------+---------+----------------+----------------+\n",
      "| D    | D(Easy) | D(Hard) | D(Easy)        | D(Hard)        |\n",
      "+------+---------+---------+----------------+----------------+\n",
      "| G(A) | 0.3     | 0.05    | 0.9            | 0.5            |\n",
      "+------+---------+---------+----------------+----------------+\n",
      "| G(B) | 0.4     | 0.25    | 0.08           | 0.3            |\n",
      "+------+---------+---------+----------------+----------------+\n",
      "| G(C) | 0.3     | 0.7     | 0.02           | 0.2            |\n",
      "+------+---------+---------+----------------+----------------+\n"
     ]
    }
   ],
   "source": [
    "# Printing a CPD with it's state names defined.\n",
    "print(model.get_cpds('G'))"
   ]
  },
  {
   "cell_type": "code",
   "execution_count": 84,
   "id": "29f19f83",
   "metadata": {},
   "outputs": [
    {
     "data": {
      "text/plain": [
       "(D ⟂ S, I)\n",
       "(I ⟂ D)\n",
       "(S ⟂ L, D, G | I)\n",
       "(G ⟂ S | D, I)\n",
       "(L ⟂ S, D, I | G)"
      ]
     },
     "execution_count": 84,
     "metadata": {},
     "output_type": "execute_result"
    }
   ],
   "source": [
    "# Getting all the local independencies in the network.\n",
    "model.local_independencies(['D', 'I', 'S', 'G', 'L'])"
   ]
  },
  {
   "cell_type": "markdown",
   "id": "0e8646e5",
   "metadata": {},
   "source": [
    "## Variable Elimination\n",
    "We know that:\n",
    "\n",
    "$ P(D, I, G, L, S) = P(L|G) * P(S|I) * P(G|D, I) * P(D) * P(I) $\n",
    "\n",
    "Now let’s say we just want to compute the probability of G. For that we will need to marginalize over all the other variables.\n",
    "\n",
    "Now since not all the conditional distributions depend on all the variables we can push the summations inside:\n",
    "\n",
    "$ P(G) = \\sum_D \\sum_I \\sum_L \\sum_S P(L|G) * P(S|I) * P(G|D, I) * P(D) * P(I) $\n",
    "\n",
    "$ P(G) = \\sum_D P(D) \\sum_I P(G|D, I) * P(I) \\sum_S P(S|I) \\sum_L P(L|G) $\n",
    "\n",
    "So, by pushing the summations inside we have saved a lot of computation because we have to now iterate over much smaller tables.\n",
    "\n",
    "Let’s take an example for inference using Variable Elimination in pgmpy:"
   ]
  },
  {
   "cell_type": "code",
   "execution_count": 85,
   "id": "49d4a637",
   "metadata": {},
   "outputs": [
    {
     "data": {
      "application/vnd.jupyter.widget-view+json": {
       "model_id": "ea794060b76e4785b181b4a13116f69b",
       "version_major": 2,
       "version_minor": 0
      },
      "text/plain": [
       "  0%|          | 0/2 [00:00<?, ?it/s]"
      ]
     },
     "metadata": {},
     "output_type": "display_data"
    },
    {
     "data": {
      "application/vnd.jupyter.widget-view+json": {
       "model_id": "c019f671b8724df58b319a7a4689d964",
       "version_major": 2,
       "version_minor": 0
      },
      "text/plain": [
       "  0%|          | 0/2 [00:00<?, ?it/s]"
      ]
     },
     "metadata": {},
     "output_type": "display_data"
    },
    {
     "name": "stdout",
     "output_type": "stream",
     "text": [
      "+------+----------+\n",
      "| G    |   phi(G) |\n",
      "+======+==========+\n",
      "| G(A) |   0.3620 |\n",
      "+------+----------+\n",
      "| G(B) |   0.2884 |\n",
      "+------+----------+\n",
      "| G(C) |   0.3496 |\n",
      "+------+----------+\n"
     ]
    }
   ],
   "source": [
    "from pgmpy.inference import VariableElimination\n",
    "infer = VariableElimination(model)\n",
    "g_dist = infer.query(['G'])\n",
    "print(g_dist)"
   ]
  },
  {
   "cell_type": "markdown",
   "id": "cab01435",
   "metadata": {},
   "source": [
    "There can be cases in which we want to compute the conditional distribution let’s say $ P(G | D=0, I=1) $. In such cases we need to modify our equations a bit:\n",
    "\n",
    "$ P(G | D=0, I=1) = \\sum_L \\sum_S P(L|G) * P(S| I=1) * P(G| D=0, I=1) * P(D=0) * P(I=1) $ $ P(G | D=0, I=1) = P(D=0) * P(I=1) * P(G | D=0, I=1) * \\sum_L P(L | G) * \\sum_S P(S | I=1) $\n",
    "\n",
    "In pgmpy we will just need to pass an extra argument in the case of conditional distributions:"
   ]
  },
  {
   "cell_type": "code",
   "execution_count": 86,
   "id": "b06f2979",
   "metadata": {},
   "outputs": [
    {
     "data": {
      "application/vnd.jupyter.widget-view+json": {
       "model_id": "640798bf097e4b68a00f58ca65979c76",
       "version_major": 2,
       "version_minor": 0
      },
      "text/plain": [
       "0it [00:00, ?it/s]"
      ]
     },
     "metadata": {},
     "output_type": "display_data"
    },
    {
     "data": {
      "application/vnd.jupyter.widget-view+json": {
       "model_id": "4cc575341fe1451ca71a3d058d7ed3bc",
       "version_major": 2,
       "version_minor": 0
      },
      "text/plain": [
       "0it [00:00, ?it/s]"
      ]
     },
     "metadata": {},
     "output_type": "display_data"
    },
    {
     "name": "stdout",
     "output_type": "stream",
     "text": [
      "+------+----------+\n",
      "| G    |   phi(G) |\n",
      "+======+==========+\n",
      "| G(A) |   0.9000 |\n",
      "+------+----------+\n",
      "| G(B) |   0.0800 |\n",
      "+------+----------+\n",
      "| G(C) |   0.0200 |\n",
      "+------+----------+\n"
     ]
    }
   ],
   "source": [
    "print(infer.query(['G'], evidence={'D': 'Easy', 'I': 'Intelligent'}))"
   ]
  },
  {
   "cell_type": "markdown",
   "id": "ad5f6ae8",
   "metadata": {},
   "source": [
    "## Example 2: "
   ]
  },
  {
   "attachments": {},
   "cell_type": "markdown",
   "id": "43cdda72",
   "metadata": {},
   "source": [
    "![fig2.png](fig2.png)"
   ]
  },
  {
   "cell_type": "code",
   "execution_count": 88,
   "id": "9aa4db63",
   "metadata": {},
   "outputs": [
    {
     "data": {
      "text/plain": [
       "True"
      ]
     },
     "execution_count": 88,
     "metadata": {},
     "output_type": "execute_result"
    }
   ],
   "source": [
    "model = BayesianNetwork([('T', 'J'), ('T', 'K'), ('J', 'M'), ('K', 'M')])\n",
    "\n",
    "cpd_t = TabularCPD(variable='T', variable_card=2, values=[[0.4], [0.6]], state_names={'T':['low', 'high']})\n",
    "cpd_j = TabularCPD(variable='J', variable_card=2, \n",
    "                   values=[[0.5, 0.7], \n",
    "                           [0.5, 0.3]], \n",
    "                   evidence=['T'],\n",
    "                   evidence_card=[2],\n",
    "                   state_names={'J':['yes', 'no'],\n",
    "                               'T':['low', 'high']})\n",
    "cpd_k = TabularCPD(variable='K', variable_card=2, \n",
    "                   values=[[0.4, 0.75], \n",
    "                           [0.6, 0.25]], \n",
    "                   evidence=['T'],\n",
    "                   evidence_card=[2],\n",
    "                   state_names={'K':['yes', 'no'],\n",
    "                               'T':['low', 'high']})\n",
    "cpd_m = TabularCPD(variable='M', variable_card = 2,\n",
    "                  values=[[.5, 0, 0, 0],\n",
    "                         [.5, 1, 1, 1]],\n",
    "                  evidence=['J', 'K'],\n",
    "                  evidence_card=[2, 2],\n",
    "                  state_names={'M': ['yes', 'no'],\n",
    "                              'J': ['yes', 'no'],\n",
    "                              'K': ['yes', 'no']})\n",
    "\n",
    "# These defined CPDs can be added to the model. Since, the model already has CPDs associated to variables, it will\n",
    "# show warning that pmgpy is now replacing those CPDs with the new ones.\n",
    "model.add_cpds(cpd_t, cpd_j, cpd_k, cpd_m)\n",
    "# model.add_cpds(cpd_d_sn, cpd_i_sn, cpd_g_sn, cpd_l_sn, cpd_s_sn)\n",
    "model.check_model()"
   ]
  },
  {
   "cell_type": "code",
   "execution_count": 89,
   "id": "1a3b3f58",
   "metadata": {},
   "outputs": [
    {
     "name": "stdout",
     "output_type": "stream",
     "text": [
      "+--------+--------+---------+\n",
      "| T      | T(low) | T(high) |\n",
      "+--------+--------+---------+\n",
      "| J(yes) | 0.5    | 0.7     |\n",
      "+--------+--------+---------+\n",
      "| J(no)  | 0.5    | 0.3     |\n",
      "+--------+--------+---------+\n"
     ]
    }
   ],
   "source": [
    "# Printing a CPD with it's state names defined.\n",
    "print(model.get_cpds('J'))"
   ]
  },
  {
   "cell_type": "markdown",
   "id": "38661aa8",
   "metadata": {},
   "source": [
    "### Inference"
   ]
  },
  {
   "cell_type": "markdown",
   "id": "35661af2",
   "metadata": {},
   "source": [
    "What is the probability that they meet $P(M)=?$"
   ]
  },
  {
   "cell_type": "code",
   "execution_count": 90,
   "id": "a0efc9ac",
   "metadata": {},
   "outputs": [
    {
     "data": {
      "application/vnd.jupyter.widget-view+json": {
       "model_id": "2f6d78c7086846a3982d96afaf21fcac",
       "version_major": 2,
       "version_minor": 0
      },
      "text/plain": [
       "  0%|          | 0/3 [00:00<?, ?it/s]"
      ]
     },
     "metadata": {},
     "output_type": "display_data"
    },
    {
     "data": {
      "application/vnd.jupyter.widget-view+json": {
       "model_id": "f842d24adca546e1934aca558273e473",
       "version_major": 2,
       "version_minor": 0
      },
      "text/plain": [
       "  0%|          | 0/3 [00:00<?, ?it/s]"
      ]
     },
     "metadata": {},
     "output_type": "display_data"
    },
    {
     "name": "stdout",
     "output_type": "stream",
     "text": [
      "+--------+----------+\n",
      "| M      |   phi(M) |\n",
      "+========+==========+\n",
      "| M(yes) |   0.1975 |\n",
      "+--------+----------+\n",
      "| M(no)  |   0.8025 |\n",
      "+--------+----------+\n"
     ]
    }
   ],
   "source": [
    "infer = VariableElimination(model)\n",
    "g_dist = infer.query(['M'])\n",
    "print(g_dist)"
   ]
  },
  {
   "cell_type": "markdown",
   "id": "e111ae58",
   "metadata": {},
   "source": [
    "What's the probability that John goes for a run, given that they don't meet?\n",
    "\n",
    "i.e.: $P(J|M=\\text{no})$"
   ]
  },
  {
   "cell_type": "code",
   "execution_count": 91,
   "id": "0bfca94a",
   "metadata": {},
   "outputs": [
    {
     "data": {
      "application/vnd.jupyter.widget-view+json": {
       "model_id": "f62e1a1fa2a44f4393ab5861b82d227e",
       "version_major": 2,
       "version_minor": 0
      },
      "text/plain": [
       "  0%|          | 0/2 [00:00<?, ?it/s]"
      ]
     },
     "metadata": {},
     "output_type": "display_data"
    },
    {
     "data": {
      "application/vnd.jupyter.widget-view+json": {
       "model_id": "1c3401f048164b22b0ad510143f26123",
       "version_major": 2,
       "version_minor": 0
      },
      "text/plain": [
       "  0%|          | 0/2 [00:00<?, ?it/s]"
      ]
     },
     "metadata": {},
     "output_type": "display_data"
    },
    {
     "name": "stdout",
     "output_type": "stream",
     "text": [
      "+--------+----------+\n",
      "| J      |   phi(J) |\n",
      "+========+==========+\n",
      "| J(yes) |   0.5265 |\n",
      "+--------+----------+\n",
      "| J(no)  |   0.4735 |\n",
      "+--------+----------+\n"
     ]
    }
   ],
   "source": [
    "print(infer.query(['J'], evidence={'M': 'no'}))"
   ]
  },
  {
   "cell_type": "markdown",
   "id": "41c9c7c3",
   "metadata": {},
   "source": [
    "What is $P(M=\\text{yes}|T=\\text{high})?$"
   ]
  },
  {
   "cell_type": "code",
   "execution_count": 92,
   "id": "14f92f9a",
   "metadata": {},
   "outputs": [
    {
     "data": {
      "application/vnd.jupyter.widget-view+json": {
       "model_id": "3297a3066b0940dbaebae3f1aecf3c48",
       "version_major": 2,
       "version_minor": 0
      },
      "text/plain": [
       "  0%|          | 0/2 [00:00<?, ?it/s]"
      ]
     },
     "metadata": {},
     "output_type": "display_data"
    },
    {
     "data": {
      "application/vnd.jupyter.widget-view+json": {
       "model_id": "8a7cc58226184a8bbc6bca63d6bf3d64",
       "version_major": 2,
       "version_minor": 0
      },
      "text/plain": [
       "  0%|          | 0/2 [00:00<?, ?it/s]"
      ]
     },
     "metadata": {},
     "output_type": "display_data"
    },
    {
     "name": "stdout",
     "output_type": "stream",
     "text": [
      "+--------+----------+\n",
      "| M      |   phi(M) |\n",
      "+========+==========+\n",
      "| M(yes) |   0.2625 |\n",
      "+--------+----------+\n",
      "| M(no)  |   0.7375 |\n",
      "+--------+----------+\n"
     ]
    }
   ],
   "source": [
    "print(infer.query(['M'], evidence={'T': 'high'}))"
   ]
  },
  {
   "cell_type": "markdown",
   "id": "5b3d9c9e",
   "metadata": {},
   "source": [
    "What is $P(J|K)?$"
   ]
  },
  {
   "cell_type": "code",
   "execution_count": 93,
   "id": "07d6d149",
   "metadata": {},
   "outputs": [
    {
     "data": {
      "application/vnd.jupyter.widget-view+json": {
       "model_id": "ae9511f22ecc47b7b18d0da0b8ac8d9c",
       "version_major": 2,
       "version_minor": 0
      },
      "text/plain": [
       "  0%|          | 0/1 [00:00<?, ?it/s]"
      ]
     },
     "metadata": {},
     "output_type": "display_data"
    },
    {
     "data": {
      "application/vnd.jupyter.widget-view+json": {
       "model_id": "13eac1ee791042cca7abdf4f1ffb6e09",
       "version_major": 2,
       "version_minor": 0
      },
      "text/plain": [
       "  0%|          | 0/1 [00:00<?, ?it/s]"
      ]
     },
     "metadata": {},
     "output_type": "display_data"
    },
    {
     "name": "stdout",
     "output_type": "stream",
     "text": [
      "+--------+----------+\n",
      "| J      |   phi(J) |\n",
      "+========+==========+\n",
      "| J(yes) |   0.6475 |\n",
      "+--------+----------+\n",
      "| J(no)  |   0.3525 |\n",
      "+--------+----------+\n"
     ]
    }
   ],
   "source": [
    "print(infer.query(['J'], evidence={'K': 'yes'}))"
   ]
  },
  {
   "cell_type": "markdown",
   "id": "98ff282a",
   "metadata": {},
   "source": [
    "## Example 3"
   ]
  },
  {
   "attachments": {},
   "cell_type": "markdown",
   "id": "437dd212",
   "metadata": {},
   "source": [
    "![fig3.png](fig3.png)"
   ]
  },
  {
   "cell_type": "code",
   "execution_count": 94,
   "id": "7f32b98e",
   "metadata": {},
   "outputs": [
    {
     "data": {
      "text/plain": [
       "True"
      ]
     },
     "execution_count": 94,
     "metadata": {},
     "output_type": "execute_result"
    }
   ],
   "source": [
    "model = BayesianNetwork([('T', 'N'), ('R', 'N'), ('N', 'U'), ('U', 'P'), ('U', 'C'), ('P', 'C')])\n",
    "\n",
    "T = TabularCPD(variable='T', variable_card=2, values=[[0.25], [0.75]], state_names={'T':['Hospital', 'DO']})\n",
    "R = TabularCPD(variable='R', variable_card=2, values=[[0.55], [0.45]], state_names={'R':['North', 'South']})\n",
    "N = TabularCPD(variable='N', variable_card=2,\n",
    "                  values=[[.9, .75, .8, .6],\n",
    "                         [.1, .25, .2, .4]],\n",
    "                  evidence=['T', 'R'],\n",
    "                  evidence_card=[2, 2],\n",
    "                  state_names={'N': ['1', '≥2'],\n",
    "                              'T': ['Hospital', 'DO'],\n",
    "                              'R': ['North', 'South']})\n",
    "U = TabularCPD(variable='U', variable_card=2,\n",
    "              values=[[.5, .3],\n",
    "                     [.5, .7]],\n",
    "              evidence=['N'],\n",
    "              evidence_card=[2],\n",
    "              state_names={'U': ['low', 'high'],\n",
    "                          'N': ['1', '≥2']})\n",
    "P = TabularCPD(variable='P', variable_card=2,\n",
    "              values=[[.3, .6],\n",
    "                     [.7, .4]],\n",
    "              evidence=['U'],\n",
    "              evidence_card=[2],\n",
    "              state_names={'P': ['yes', 'no'],\n",
    "                          'U': ['low', 'high']})\n",
    "C = TabularCPD(variable='C', variable_card=2,\n",
    "                  values=[[.4, .2, .25, .1],\n",
    "                         [.6, .8, .75, .9]],\n",
    "                  evidence=['U', 'P'],\n",
    "                  evidence_card=[2, 2],\n",
    "                  state_names={'C': ['yes', 'no'],\n",
    "                              'U': ['low', 'high'],\n",
    "                              'P': ['yes', 'no']})\n",
    "\n",
    "model.add_cpds(T, R, N, U, P, C)\n",
    "model.check_model()"
   ]
  },
  {
   "cell_type": "code",
   "execution_count": 95,
   "id": "80e2929e",
   "metadata": {},
   "outputs": [
    {
     "name": "stdout",
     "output_type": "stream",
     "text": [
      "+--------+--------+--------+---------+---------+\n",
      "| U      | U(low) | U(low) | U(high) | U(high) |\n",
      "+--------+--------+--------+---------+---------+\n",
      "| P      | P(yes) | P(no)  | P(yes)  | P(no)   |\n",
      "+--------+--------+--------+---------+---------+\n",
      "| C(yes) | 0.4    | 0.2    | 0.25    | 0.1     |\n",
      "+--------+--------+--------+---------+---------+\n",
      "| C(no)  | 0.6    | 0.8    | 0.75    | 0.9     |\n",
      "+--------+--------+--------+---------+---------+\n"
     ]
    }
   ],
   "source": [
    "print(model.get_cpds('C'))"
   ]
  },
  {
   "cell_type": "markdown",
   "id": "f337707d",
   "metadata": {},
   "source": [
    "### Independence\n",
    "\n",
    "Is customer cancellation independent of customer type?"
   ]
  },
  {
   "cell_type": "code",
   "execution_count": 96,
   "id": "dec91b90",
   "metadata": {},
   "outputs": [
    {
     "data": {
      "text/plain": [
       "(C ⟂ R, T, N | P, U)\n",
       "(T ⟂ R)"
      ]
     },
     "execution_count": 96,
     "metadata": {},
     "output_type": "execute_result"
    }
   ],
   "source": [
    "# Getting all the local independencies in the network.\n",
    "model.local_independencies(['C', 'T'])"
   ]
  },
  {
   "cell_type": "markdown",
   "id": "b4ab0e16",
   "metadata": {},
   "source": [
    "Type is not independent of cancellation"
   ]
  },
  {
   "cell_type": "markdown",
   "id": "4ba42c0e",
   "metadata": {},
   "source": [
    "Next, is customer cancellation independent of customer type given usage?"
   ]
  },
  {
   "cell_type": "markdown",
   "id": "a371142b",
   "metadata": {},
   "source": [
    "Type is indeed conditionally independent of customer cancellation given usage"
   ]
  },
  {
   "cell_type": "markdown",
   "id": "e94772d0",
   "metadata": {},
   "source": [
    "### Inference"
   ]
  },
  {
   "cell_type": "code",
   "execution_count": 97,
   "id": "33b03957",
   "metadata": {},
   "outputs": [],
   "source": [
    "infer = VariableElimination(model)"
   ]
  },
  {
   "cell_type": "markdown",
   "id": "1d1684bc",
   "metadata": {},
   "source": [
    "Find probability that a customer cancels given that it's in the north region:"
   ]
  },
  {
   "cell_type": "code",
   "execution_count": 98,
   "id": "5274482a",
   "metadata": {},
   "outputs": [
    {
     "data": {
      "application/vnd.jupyter.widget-view+json": {
       "model_id": "4391ba3bd4044f988882c9fe0b616ff0",
       "version_major": 2,
       "version_minor": 0
      },
      "text/plain": [
       "  0%|          | 0/4 [00:00<?, ?it/s]"
      ]
     },
     "metadata": {},
     "output_type": "display_data"
    },
    {
     "data": {
      "application/vnd.jupyter.widget-view+json": {
       "model_id": "f5b1b02560ca45c880fe7e10816a0307",
       "version_major": 2,
       "version_minor": 0
      },
      "text/plain": [
       "  0%|          | 0/4 [00:00<?, ?it/s]"
      ]
     },
     "metadata": {},
     "output_type": "display_data"
    },
    {
     "name": "stdout",
     "output_type": "stream",
     "text": [
      "+--------+----------+\n",
      "| C      |   phi(C) |\n",
      "+========+==========+\n",
      "| C(yes) |   0.2226 |\n",
      "+--------+----------+\n",
      "| C(no)  |   0.7774 |\n",
      "+--------+----------+\n"
     ]
    }
   ],
   "source": [
    "print(infer.query(['C'], evidence={'R': 'North'}))"
   ]
  },
  {
   "cell_type": "markdown",
   "id": "2ac93c3d",
   "metadata": {},
   "source": [
    "Find the probability that a customer is a hospital given that it is cancelled:"
   ]
  },
  {
   "cell_type": "code",
   "execution_count": 99,
   "id": "7c124e6e",
   "metadata": {},
   "outputs": [
    {
     "data": {
      "application/vnd.jupyter.widget-view+json": {
       "model_id": "5a935cde3f4640bfaca9332c246e78c9",
       "version_major": 2,
       "version_minor": 0
      },
      "text/plain": [
       "  0%|          | 0/4 [00:00<?, ?it/s]"
      ]
     },
     "metadata": {},
     "output_type": "display_data"
    },
    {
     "data": {
      "application/vnd.jupyter.widget-view+json": {
       "model_id": "e462edbd38c447b4adb4a7b44b2fd0a3",
       "version_major": 2,
       "version_minor": 0
      },
      "text/plain": [
       "  0%|          | 0/4 [00:00<?, ?it/s]"
      ]
     },
     "metadata": {},
     "output_type": "display_data"
    },
    {
     "name": "stdout",
     "output_type": "stream",
     "text": [
      "+-------------+----------+\n",
      "| T           |   phi(T) |\n",
      "+=============+==========+\n",
      "| T(Hospital) |   0.2515 |\n",
      "+-------------+----------+\n",
      "| T(DO)       |   0.7485 |\n",
      "+-------------+----------+\n"
     ]
    }
   ],
   "source": [
    "print(infer.query(['T'], evidence={'C': 'yes'}))"
   ]
  },
  {
   "cell_type": "code",
   "execution_count": null,
   "id": "b3a87fe3",
   "metadata": {},
   "outputs": [],
   "source": []
  },
  {
   "cell_type": "markdown",
   "id": "0253d10a",
   "metadata": {},
   "source": [
    "# Pomegranate"
   ]
  },
  {
   "cell_type": "code",
   "execution_count": 100,
   "id": "596dc46e",
   "metadata": {},
   "outputs": [],
   "source": [
    "from pomegranate import *\n",
    "\n",
    "guest = DiscreteDistribution({'A': 1./3, 'B': 1./3, 'C': 1./3})\n",
    "prize = DiscreteDistribution({'A': 1./3, 'B': 1./3, 'C': 1./3})\n",
    "monty = ConditionalProbabilityTable(\n",
    "        [['A', 'A', 'A', 0.0],\n",
    "         ['A', 'A', 'B', 0.5],\n",
    "         ['A', 'A', 'C', 0.5],\n",
    "         ['A', 'B', 'A', 0.0],\n",
    "         ['A', 'B', 'B', 0.0],\n",
    "         ['A', 'B', 'C', 1.0],\n",
    "         ['A', 'C', 'A', 0.0],\n",
    "         ['A', 'C', 'B', 1.0],\n",
    "         ['A', 'C', 'C', 0.0],\n",
    "         ['B', 'A', 'A', 0.0],\n",
    "         ['B', 'A', 'B', 0.0],\n",
    "         ['B', 'A', 'C', 1.0],\n",
    "         ['B', 'B', 'A', 0.5],\n",
    "         ['B', 'B', 'B', 0.0],\n",
    "         ['B', 'B', 'C', 0.5],\n",
    "         ['B', 'C', 'A', 1.0],\n",
    "         ['B', 'C', 'B', 0.0],\n",
    "         ['B', 'C', 'C', 0.0],\n",
    "         ['C', 'A', 'A', 0.0],\n",
    "         ['C', 'A', 'B', 1.0],\n",
    "         ['C', 'A', 'C', 0.0],\n",
    "         ['C', 'B', 'A', 1.0],\n",
    "         ['C', 'B', 'B', 0.0],\n",
    "         ['C', 'B', 'C', 0.0],\n",
    "         ['C', 'C', 'A', 0.5],\n",
    "         ['C', 'C', 'B', 0.5],\n",
    "         ['C', 'C', 'C', 0.0]], [guest, prize])\n",
    "\n",
    "s1 = Node(guest, name=\"guest\")\n",
    "s2 = Node(prize, name=\"prize\")\n",
    "s3 = Node(monty, name=\"monty\")\n",
    "\n",
    "model = BayesianNetwork(\"Monty Hall Problem\")\n",
    "model.add_states(s1, s2, s3)\n",
    "model.add_edge(s1, s3)\n",
    "model.add_edge(s2, s3)\n",
    "model.bake()"
   ]
  },
  {
   "cell_type": "code",
   "execution_count": null,
   "id": "4401f20a",
   "metadata": {},
   "outputs": [],
   "source": []
  }
 ],
 "metadata": {
  "kernelspec": {
   "display_name": "Python 3 (ipykernel)",
   "language": "python",
   "name": "python3"
  },
  "language_info": {
   "codemirror_mode": {
    "name": "ipython",
    "version": 3
   },
   "file_extension": ".py",
   "mimetype": "text/x-python",
   "name": "python",
   "nbconvert_exporter": "python",
   "pygments_lexer": "ipython3",
   "version": "3.8.12"
  }
 },
 "nbformat": 4,
 "nbformat_minor": 5
}
