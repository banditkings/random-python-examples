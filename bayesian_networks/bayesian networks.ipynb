{
 "cells": [
  {
   "cell_type": "markdown",
   "id": "726afc96",
   "metadata": {},
   "source": [
    "# Bayesian Network Example with `pgmpy` and `pomegranate`"
   ]
  },
  {
   "cell_type": "markdown",
   "id": "74fa9e85",
   "metadata": {},
   "source": [
    "Starting with `pgmpy` (probabilistic graphical models in python), we'll do some simple Bayesian Networks. \n",
    "\n",
    "This demo uses the `TabularCPD` object to create tables of Conditional Probability Distributions (CPD). Everything should be self-explanatory and well-documented in the help, but here's some that I didn't understand at first glance:\n",
    "* `variable_card` = variable cardinality, i.e. the number of states the variable can take\n",
    "* `evidence` = list of variable *names*\n",
    "* `evidence_card` = cardinality of the evidence, should be a list"
   ]
  },
  {
   "cell_type": "markdown",
   "id": "a42f03fa",
   "metadata": {},
   "source": [
    ">In pgmpy we define the network structure and the CPDs (conditional probability distributions) separately and then associate them with the structure. Here’s an example for defining the above model:"
   ]
  },
  {
   "cell_type": "code",
   "execution_count": 27,
   "id": "7005e698",
   "metadata": {},
   "outputs": [],
   "source": [
    "from pgmpy.models import BayesianNetwork\n",
    "from pgmpy.factors.discrete import TabularCPD\n",
    "from pgmpy.inference import VariableElimination"
   ]
  },
  {
   "cell_type": "markdown",
   "id": "ad5f6ae8",
   "metadata": {},
   "source": [
    "## Example 1\n",
    "\n",
    "This example comes from the excellent and short course by [Phillip Loick on Bayesian Statistics (Udemy)](https://www.udemy.com/course/bayesian-statistics/):"
   ]
  },
  {
   "cell_type": "markdown",
   "id": "43cdda72",
   "metadata": {},
   "source": [
    "![fig2.png](fig2.png)"
   ]
  },
  {
   "cell_type": "markdown",
   "id": "47a85b25",
   "metadata": {},
   "source": [
    "This is a fun model that models whether or not two people (John and Kate) will run based on the temperature and whether or not these two will meet. "
   ]
  },
  {
   "cell_type": "code",
   "execution_count": 28,
   "id": "9aa4db63",
   "metadata": {},
   "outputs": [
    {
     "data": {
      "text/plain": [
       "True"
      ]
     },
     "execution_count": 28,
     "metadata": {},
     "output_type": "execute_result"
    }
   ],
   "source": [
    "# 1. Instantiate the model with node edges as a list\n",
    "model = BayesianNetwork([('T', 'J'), ('T', 'K'), ('J', 'M'), ('K', 'M')])\n",
    "\n",
    "# 2. Define the distributions\n",
    "cpd_t = TabularCPD(variable='T', variable_card=2, values=[[0.4], [0.6]], state_names={'T':['low', 'high']})\n",
    "cpd_j = TabularCPD(variable='J', variable_card=2, \n",
    "                   values=[[0.5, 0.7], \n",
    "                           [0.5, 0.3]], \n",
    "                   evidence=['T'],\n",
    "                   evidence_card=[2],\n",
    "                   state_names={'J':['yes', 'no'],\n",
    "                               'T':['low', 'high']})\n",
    "cpd_k = TabularCPD(variable='K', variable_card=2, \n",
    "                   values=[[0.4, 0.75], \n",
    "                           [0.6, 0.25]], \n",
    "                   evidence=['T'],\n",
    "                   evidence_card=[2],\n",
    "                   state_names={'K':['yes', 'no'],\n",
    "                               'T':['low', 'high']})\n",
    "cpd_m = TabularCPD(variable='M', variable_card = 2,\n",
    "                  values=[[.5, 0, 0, 0],\n",
    "                         [.5, 1, 1, 1]],\n",
    "                  evidence=['J', 'K'],\n",
    "                  evidence_card=[2, 2],\n",
    "                  state_names={'M': ['yes', 'no'],\n",
    "                              'J': ['yes', 'no'],\n",
    "                              'K': ['yes', 'no']})\n",
    "\n",
    "# 3. Add CPDs to the model\n",
    "model.add_cpds(cpd_t, cpd_j, cpd_k, cpd_m)\n",
    "# 4. Check the model validity (i.e. probabilities all sum to 1)\n",
    "model.check_model()"
   ]
  },
  {
   "cell_type": "markdown",
   "id": "37dc4ae4",
   "metadata": {},
   "source": [
    "Let's doubleclick into the 'M' node because the evidence table looks **different** than the conditional probability table that was in the first figure:"
   ]
  },
  {
   "cell_type": "code",
   "execution_count": 29,
   "id": "1a3b3f58",
   "metadata": {},
   "outputs": [
    {
     "name": "stdout",
     "output_type": "stream",
     "text": [
      "+--------+--------+--------+--------+-------+\n",
      "| J      | J(yes) | J(yes) | J(no)  | J(no) |\n",
      "+--------+--------+--------+--------+-------+\n",
      "| K      | K(yes) | K(no)  | K(yes) | K(no) |\n",
      "+--------+--------+--------+--------+-------+\n",
      "| M(yes) | 0.5    | 0.0    | 0.0    | 0.0   |\n",
      "+--------+--------+--------+--------+-------+\n",
      "| M(no)  | 0.5    | 1.0    | 1.0    | 1.0   |\n",
      "+--------+--------+--------+--------+-------+\n"
     ]
    }
   ],
   "source": [
    "# Printing a CPD with it's state names defined.\n",
    "print(model.get_cpds('M'))"
   ]
  },
  {
   "cell_type": "markdown",
   "id": "b6f7f89f",
   "metadata": {},
   "source": [
    "This is because `pgmpy` expects you to have the `variable` states on rows and then like a multi-index of `evidence` on columns. Recall the `evidence` and `evidence_card` items we called out earlier as `['J', 'K']` in the `TabularCPD` call for variable `M`, so the columns show up in the order of the `evidence` and the `state_names` for each."
   ]
  },
  {
   "cell_type": "markdown",
   "id": "38661aa8",
   "metadata": {},
   "source": [
    "## Inference with Variable Elimination"
   ]
  },
  {
   "cell_type": "markdown",
   "id": "35661af2",
   "metadata": {},
   "source": [
    "Let’s take an example of inference using Variable Elimination in `pgmpy`. Here we'll use our model to compute the probability distribution that the two meet, and `pgmpy` will make a pretty table: \n",
    "\n",
    "In other words, what is the probability that they meet $P(M)=?$"
   ]
  },
  {
   "cell_type": "code",
   "execution_count": 30,
   "id": "a0efc9ac",
   "metadata": {},
   "outputs": [
    {
     "data": {
      "application/vnd.jupyter.widget-view+json": {
       "model_id": "1d7939df0f6d476d91e2dbf3192c456a",
       "version_major": 2,
       "version_minor": 0
      },
      "text/plain": [
       "  0%|          | 0/3 [00:00<?, ?it/s]"
      ]
     },
     "metadata": {},
     "output_type": "display_data"
    },
    {
     "data": {
      "application/vnd.jupyter.widget-view+json": {
       "model_id": "19ede6b1fad74c78bd5480d037a0b9e3",
       "version_major": 2,
       "version_minor": 0
      },
      "text/plain": [
       "  0%|          | 0/3 [00:00<?, ?it/s]"
      ]
     },
     "metadata": {},
     "output_type": "display_data"
    },
    {
     "name": "stdout",
     "output_type": "stream",
     "text": [
      "+--------+----------+\n",
      "| M      |   phi(M) |\n",
      "+========+==========+\n",
      "| M(yes) |   0.1975 |\n",
      "+--------+----------+\n",
      "| M(no)  |   0.8025 |\n",
      "+--------+----------+\n"
     ]
    }
   ],
   "source": [
    "from pgmpy.inference import VariableElimination\n",
    "\n",
    "infer = VariableElimination(model)\n",
    "g_dist = infer.query(['M'])\n",
    "print(g_dist)"
   ]
  },
  {
   "cell_type": "markdown",
   "id": "e111ae58",
   "metadata": {},
   "source": [
    "You can infer conditional probabilities by adding a new term called `evidence`. Here we ask what's the probability that John goes for a run, given that they don't meet?\n",
    "\n",
    "i.e.: $P(J|M=\\text{no})$"
   ]
  },
  {
   "cell_type": "code",
   "execution_count": 31,
   "id": "0bfca94a",
   "metadata": {},
   "outputs": [
    {
     "data": {
      "application/vnd.jupyter.widget-view+json": {
       "model_id": "2d702e51cc204bf6a0f84e174a5fcd1e",
       "version_major": 2,
       "version_minor": 0
      },
      "text/plain": [
       "  0%|          | 0/2 [00:00<?, ?it/s]"
      ]
     },
     "metadata": {},
     "output_type": "display_data"
    },
    {
     "data": {
      "application/vnd.jupyter.widget-view+json": {
       "model_id": "7baff3fc7ffe40959ed16d913c66f1fe",
       "version_major": 2,
       "version_minor": 0
      },
      "text/plain": [
       "  0%|          | 0/2 [00:00<?, ?it/s]"
      ]
     },
     "metadata": {},
     "output_type": "display_data"
    },
    {
     "name": "stdout",
     "output_type": "stream",
     "text": [
      "+--------+----------+\n",
      "| J      |   phi(J) |\n",
      "+========+==========+\n",
      "| J(yes) |   0.5265 |\n",
      "+--------+----------+\n",
      "| J(no)  |   0.4735 |\n",
      "+--------+----------+\n"
     ]
    }
   ],
   "source": [
    "print(infer.query(['J'], evidence={'M': 'no'}))"
   ]
  },
  {
   "cell_type": "markdown",
   "id": "41c9c7c3",
   "metadata": {},
   "source": [
    "What is $P(M=\\text{yes}|T=\\text{high})?$"
   ]
  },
  {
   "cell_type": "code",
   "execution_count": 32,
   "id": "14f92f9a",
   "metadata": {},
   "outputs": [
    {
     "data": {
      "application/vnd.jupyter.widget-view+json": {
       "model_id": "ba384d56aac947a0809369fd322f5f42",
       "version_major": 2,
       "version_minor": 0
      },
      "text/plain": [
       "  0%|          | 0/2 [00:00<?, ?it/s]"
      ]
     },
     "metadata": {},
     "output_type": "display_data"
    },
    {
     "data": {
      "application/vnd.jupyter.widget-view+json": {
       "model_id": "76b5841c1a2d490db6eef12a2c732ae7",
       "version_major": 2,
       "version_minor": 0
      },
      "text/plain": [
       "  0%|          | 0/2 [00:00<?, ?it/s]"
      ]
     },
     "metadata": {},
     "output_type": "display_data"
    },
    {
     "name": "stdout",
     "output_type": "stream",
     "text": [
      "+--------+----------+\n",
      "| M      |   phi(M) |\n",
      "+========+==========+\n",
      "| M(yes) |   0.2625 |\n",
      "+--------+----------+\n",
      "| M(no)  |   0.7375 |\n",
      "+--------+----------+\n"
     ]
    }
   ],
   "source": [
    "print(infer.query(['M'], evidence={'T': 'high'}))"
   ]
  },
  {
   "cell_type": "markdown",
   "id": "5b3d9c9e",
   "metadata": {},
   "source": [
    "What is $P(J|K)?$"
   ]
  },
  {
   "cell_type": "code",
   "execution_count": 33,
   "id": "07d6d149",
   "metadata": {},
   "outputs": [
    {
     "data": {
      "application/vnd.jupyter.widget-view+json": {
       "model_id": "16aea444d7704bd4aae6afeeba6ac9d6",
       "version_major": 2,
       "version_minor": 0
      },
      "text/plain": [
       "  0%|          | 0/1 [00:00<?, ?it/s]"
      ]
     },
     "metadata": {},
     "output_type": "display_data"
    },
    {
     "data": {
      "application/vnd.jupyter.widget-view+json": {
       "model_id": "b7c4abc0fe9a440ca69c74ef26daf169",
       "version_major": 2,
       "version_minor": 0
      },
      "text/plain": [
       "  0%|          | 0/1 [00:00<?, ?it/s]"
      ]
     },
     "metadata": {},
     "output_type": "display_data"
    },
    {
     "name": "stdout",
     "output_type": "stream",
     "text": [
      "+--------+----------+\n",
      "| J      |   phi(J) |\n",
      "+========+==========+\n",
      "| J(yes) |   0.6475 |\n",
      "+--------+----------+\n",
      "| J(no)  |   0.3525 |\n",
      "+--------+----------+\n"
     ]
    }
   ],
   "source": [
    "print(infer.query(['J'], evidence={'K': 'yes'}))"
   ]
  },
  {
   "cell_type": "markdown",
   "id": "98ff282a",
   "metadata": {},
   "source": [
    "## Example 2\n",
    "\n",
    "Also from the same Udemy course, there's another example that models medical device sales and whether or not a customer is going to cancel an order."
   ]
  },
  {
   "cell_type": "markdown",
   "id": "437dd212",
   "metadata": {},
   "source": [
    "![fig3.png](fig3.png)"
   ]
  },
  {
   "cell_type": "markdown",
   "id": "985669dc",
   "metadata": {},
   "source": [
    "Once again, we follow the earlier pattern:"
   ]
  },
  {
   "cell_type": "code",
   "execution_count": 34,
   "id": "7f32b98e",
   "metadata": {},
   "outputs": [
    {
     "data": {
      "text/plain": [
       "True"
      ]
     },
     "execution_count": 34,
     "metadata": {},
     "output_type": "execute_result"
    }
   ],
   "source": [
    "model = BayesianNetwork([('T', 'N'), ('R', 'N'), ('N', 'U'), ('U', 'P'), ('U', 'C'), ('P', 'C')])\n",
    "\n",
    "T = TabularCPD(variable='T', variable_card=2, values=[[0.25], [0.75]], state_names={'T':['Hospital', 'DO']})\n",
    "R = TabularCPD(variable='R', variable_card=2, values=[[0.55], [0.45]], state_names={'R':['North', 'South']})\n",
    "N = TabularCPD(variable='N', variable_card=2,\n",
    "                  values=[[.9, .75, .8, .6],\n",
    "                         [.1, .25, .2, .4]],\n",
    "                  evidence=['T', 'R'],\n",
    "                  evidence_card=[2, 2],\n",
    "                  state_names={'N': ['1', '≥2'],\n",
    "                              'T': ['Hospital', 'DO'],\n",
    "                              'R': ['North', 'South']})\n",
    "U = TabularCPD(variable='U', variable_card=2,\n",
    "              values=[[.5, .3],\n",
    "                     [.5, .7]],\n",
    "              evidence=['N'],\n",
    "              evidence_card=[2],\n",
    "              state_names={'U': ['low', 'high'],\n",
    "                          'N': ['1', '≥2']})\n",
    "P = TabularCPD(variable='P', variable_card=2,\n",
    "              values=[[.3, .6],\n",
    "                     [.7, .4]],\n",
    "              evidence=['U'],\n",
    "              evidence_card=[2],\n",
    "              state_names={'P': ['yes', 'no'],\n",
    "                          'U': ['low', 'high']})\n",
    "C = TabularCPD(variable='C', variable_card=2,\n",
    "                  values=[[.4, .2, .25, .1],\n",
    "                         [.6, .8, .75, .9]],\n",
    "                  evidence=['U', 'P'],\n",
    "                  evidence_card=[2, 2],\n",
    "                  state_names={'C': ['yes', 'no'],\n",
    "                              'U': ['low', 'high'],\n",
    "                              'P': ['yes', 'no']})\n",
    "\n",
    "model.add_cpds(T, R, N, U, P, C)\n",
    "model.check_model()"
   ]
  },
  {
   "cell_type": "code",
   "execution_count": 35,
   "id": "80e2929e",
   "metadata": {},
   "outputs": [
    {
     "name": "stdout",
     "output_type": "stream",
     "text": [
      "+--------+--------+--------+---------+---------+\n",
      "| U      | U(low) | U(low) | U(high) | U(high) |\n",
      "+--------+--------+--------+---------+---------+\n",
      "| P      | P(yes) | P(no)  | P(yes)  | P(no)   |\n",
      "+--------+--------+--------+---------+---------+\n",
      "| C(yes) | 0.4    | 0.2    | 0.25    | 0.1     |\n",
      "+--------+--------+--------+---------+---------+\n",
      "| C(no)  | 0.6    | 0.8    | 0.75    | 0.9     |\n",
      "+--------+--------+--------+---------+---------+\n"
     ]
    }
   ],
   "source": [
    "print(model.get_cpds('C'))"
   ]
  },
  {
   "cell_type": "markdown",
   "id": "f337707d",
   "metadata": {},
   "source": [
    "### Independence\n",
    "\n",
    "Is customer cancellation independent of customer type?"
   ]
  },
  {
   "cell_type": "code",
   "execution_count": 36,
   "id": "dec91b90",
   "metadata": {},
   "outputs": [
    {
     "data": {
      "text/plain": [
       "(C ⟂ R, T, N | P, U)\n",
       "(T ⟂ R)"
      ]
     },
     "execution_count": 36,
     "metadata": {},
     "output_type": "execute_result"
    }
   ],
   "source": [
    "# Getting all the local independencies in the network.\n",
    "model.local_independencies(['C', 'T'])"
   ]
  },
  {
   "cell_type": "markdown",
   "id": "b4ab0e16",
   "metadata": {},
   "source": [
    "Type is not independent of cancellation"
   ]
  },
  {
   "cell_type": "markdown",
   "id": "4ba42c0e",
   "metadata": {},
   "source": [
    "Next, is customer cancellation independent of customer type given usage?"
   ]
  },
  {
   "cell_type": "markdown",
   "id": "a371142b",
   "metadata": {},
   "source": [
    "Type is indeed conditionally independent of customer cancellation given usage"
   ]
  },
  {
   "cell_type": "markdown",
   "id": "e94772d0",
   "metadata": {},
   "source": [
    "### Inference"
   ]
  },
  {
   "cell_type": "code",
   "execution_count": 37,
   "id": "33b03957",
   "metadata": {},
   "outputs": [],
   "source": [
    "infer = VariableElimination(model)"
   ]
  },
  {
   "cell_type": "markdown",
   "id": "1d1684bc",
   "metadata": {},
   "source": [
    "Find probability that a customer cancels given that it's in the north region:"
   ]
  },
  {
   "cell_type": "code",
   "execution_count": 38,
   "id": "5274482a",
   "metadata": {},
   "outputs": [
    {
     "data": {
      "application/vnd.jupyter.widget-view+json": {
       "model_id": "06506fbdbc6e44ad80ed9db11cd48744",
       "version_major": 2,
       "version_minor": 0
      },
      "text/plain": [
       "  0%|          | 0/4 [00:00<?, ?it/s]"
      ]
     },
     "metadata": {},
     "output_type": "display_data"
    },
    {
     "data": {
      "application/vnd.jupyter.widget-view+json": {
       "model_id": "22a236d07adb42f1986e0d6a0b1b35d5",
       "version_major": 2,
       "version_minor": 0
      },
      "text/plain": [
       "  0%|          | 0/4 [00:00<?, ?it/s]"
      ]
     },
     "metadata": {},
     "output_type": "display_data"
    },
    {
     "name": "stdout",
     "output_type": "stream",
     "text": [
      "+--------+----------+\n",
      "| C      |   phi(C) |\n",
      "+========+==========+\n",
      "| C(yes) |   0.2226 |\n",
      "+--------+----------+\n",
      "| C(no)  |   0.7775 |\n",
      "+--------+----------+\n"
     ]
    }
   ],
   "source": [
    "print(infer.query(['C'], evidence={'R': 'North'}))"
   ]
  },
  {
   "cell_type": "markdown",
   "id": "2ac93c3d",
   "metadata": {},
   "source": [
    "Find the probability that a customer is a hospital given that it is cancelled:"
   ]
  },
  {
   "cell_type": "code",
   "execution_count": 39,
   "id": "7c124e6e",
   "metadata": {},
   "outputs": [
    {
     "data": {
      "application/vnd.jupyter.widget-view+json": {
       "model_id": "1c00c65bdfb246e3842439619016cd32",
       "version_major": 2,
       "version_minor": 0
      },
      "text/plain": [
       "  0%|          | 0/4 [00:00<?, ?it/s]"
      ]
     },
     "metadata": {},
     "output_type": "display_data"
    },
    {
     "data": {
      "application/vnd.jupyter.widget-view+json": {
       "model_id": "f79e45679c90406e8bffeca172d6f1f8",
       "version_major": 2,
       "version_minor": 0
      },
      "text/plain": [
       "  0%|          | 0/4 [00:00<?, ?it/s]"
      ]
     },
     "metadata": {},
     "output_type": "display_data"
    },
    {
     "name": "stdout",
     "output_type": "stream",
     "text": [
      "+-------------+----------+\n",
      "| T           |   phi(T) |\n",
      "+=============+==========+\n",
      "| T(Hospital) |   0.2515 |\n",
      "+-------------+----------+\n",
      "| T(DO)       |   0.7485 |\n",
      "+-------------+----------+\n"
     ]
    }
   ],
   "source": [
    "print(infer.query(['T'], evidence={'C': 'yes'}))"
   ]
  },
  {
   "cell_type": "code",
   "execution_count": null,
   "id": "b3a87fe3",
   "metadata": {},
   "outputs": [],
   "source": []
  },
  {
   "cell_type": "markdown",
   "id": "0253d10a",
   "metadata": {},
   "source": [
    "# Pomegranate\n",
    "\n",
    "An alternative to `pgmpy` is the newer `pomegranate` library. For bayesian networks, `pomegranate` offers some advantages like a built in plotting function, but interpreting the results isn't as fully developed. Furthermore, as of this writing (v 0.14.7) `pomegranate` can only support discrete Bayesian networks (which is fine because that's what our toy example is)."
   ]
  },
  {
   "cell_type": "code",
   "execution_count": 117,
   "id": "cf400385",
   "metadata": {},
   "outputs": [],
   "source": [
    "from pomegranate import *"
   ]
  },
  {
   "cell_type": "markdown",
   "id": "236514b3",
   "metadata": {},
   "source": [
    "Unlike `pgmpy`, in `pomegranate` we need to specify the probabilities that John/Kate run using a `DiscreteDistribution` object instead of a conditional probability table. Luckily, `pomegranate` offers a few nice helper functions to make working with distributions faily simple:"
   ]
  },
  {
   "cell_type": "code",
   "execution_count": 61,
   "id": "a4c18b50",
   "metadata": {},
   "outputs": [
    {
     "data": {
      "text/plain": [
       "{\n",
       "    \"class\" : \"Distribution\",\n",
       "    \"dtype\" : \"str\",\n",
       "    \"name\" : \"DiscreteDistribution\",\n",
       "    \"parameters\" : [\n",
       "        {\n",
       "            \"low\" : 0.4,\n",
       "            \"high\" : 0.6\n",
       "        }\n",
       "    ],\n",
       "    \"frozen\" : false\n",
       "}"
      ]
     },
     "execution_count": 61,
     "metadata": {},
     "output_type": "execute_result"
    }
   ],
   "source": [
    "# Initialize a distribution and specify parameters\n",
    "T = DiscreteDistribution({\"low\":0.4, \"high\":0.6})\n",
    "T"
   ]
  },
  {
   "cell_type": "markdown",
   "id": "63d08837",
   "metadata": {},
   "source": [
    "We see this instantiated a `Distribution` object with the named `parameters` for each state of the discrete distribution. \n",
    "\n",
    "`pomegranate` has built in plotting functions. Given this very simple distribution, we can plot the pdf with the `.plot()` method:"
   ]
  },
  {
   "cell_type": "code",
   "execution_count": 62,
   "id": "79a79e12",
   "metadata": {},
   "outputs": [
    {
     "data": {
      "image/png": "[encoded data removed]",
      "text/plain": [
       "<Figure size 432x288 with 1 Axes>"
      ]
     },
     "metadata": {
      "needs_background": "light"
     },
     "output_type": "display_data"
    }
   ],
   "source": [
    "T.plot()"
   ]
  },
  {
   "cell_type": "markdown",
   "id": "cec0f78e",
   "metadata": {},
   "source": [
    "A few other useful methods:\n",
    "\n",
    "* `sample(n)`: draw `n` samples from the distribution\n",
    "* `probability(X)`: predict the probability of X under this distribution"
   ]
  },
  {
   "cell_type": "code",
   "execution_count": 64,
   "id": "210e7417",
   "metadata": {},
   "outputs": [
    {
     "data": {
      "text/plain": [
       "array(['high', 'low', 'high'], dtype='<U4')"
      ]
     },
     "execution_count": 64,
     "metadata": {},
     "output_type": "execute_result"
    }
   ],
   "source": [
    "T.sample(3)"
   ]
  },
  {
   "cell_type": "code",
   "execution_count": 66,
   "id": "d2da0553",
   "metadata": {},
   "outputs": [
    {
     "data": {
      "text/plain": [
       "0.6"
      ]
     },
     "execution_count": 66,
     "metadata": {},
     "output_type": "execute_result"
    }
   ],
   "source": [
    "T.probability('high')"
   ]
  },
  {
   "cell_type": "markdown",
   "id": "e5c97435",
   "metadata": {},
   "source": [
    "### Conditional Probability Tables\n",
    "\n",
    "The probability table from the first figure will need to be respecified to a 'long' format.\n",
    "\n",
    "| T | J | probability |\n",
    "| ---| ---| ----|\n",
    "| low | yes | 50%|\n",
    "| low | no | 50%|\n",
    "| high | yes | 70%|\n",
    "| high | no | 30%|\n",
    "\n",
    "The `ConditionalProbabilityTable` takes an argument `table` which is a list of lists, with each inner list is a row. A second argument `parents` defines the parent distributions upon which this table depends."
   ]
  },
  {
   "cell_type": "code",
   "execution_count": 108,
   "id": "4401f20a",
   "metadata": {},
   "outputs": [],
   "source": [
    "# Create the `John` variable as a conditional probability table\n",
    "J = ConditionalProbabilityTable(\n",
    "    table=[['low', 'yes', 0.5],\n",
    "           ['low', 'no', 0.5],\n",
    "           ['high', 'yes', 0.7],\n",
    "           ['high', 'no', 0.3]], \n",
    "    parents=[T])"
   ]
  },
  {
   "cell_type": "markdown",
   "id": "33f28ce6",
   "metadata": {},
   "source": [
    "So the pattern for the `ConditionalProbabilityTable` would look like:\n",
    "\n",
    "| parent1 | variable | probability | \n",
    "| --- | --- | --- |\n",
    "| parent1_state1 | variable_state1 | |\n",
    "| parent1_state1 | variable_state2 | |\n",
    "| etc | etc | |"
   ]
  },
  {
   "cell_type": "markdown",
   "id": "1c00c6ec",
   "metadata": {},
   "source": [
    "Let's add some more nodes and build a model to examine how we can do inference.\n",
    "\n",
    "The procedure for creating the network is as follows:\n",
    "\n",
    "1. Instantiate the `BayesianNetwork` model\n",
    "2. Define the distributions you want to use\n",
    "3. Create Node objects with these distributions and add them to the model\n",
    "4. Add edges to the model with the `.add_edge(edge1, edge2)` method\n",
    "5. Bake the model using the `.bake()` method"
   ]
  },
  {
   "cell_type": "code",
   "execution_count": 109,
   "id": "5dcbf88e",
   "metadata": {},
   "outputs": [
    {
     "data": {
      "image/png": "[encoded data removed]",
      "text/plain": [
       "<Figure size 432x288 with 1 Axes>"
      ]
     },
     "metadata": {
      "needs_background": "light"
     },
     "output_type": "display_data"
    }
   ],
   "source": [
    "# 1. Instantiate the BayesianNetwork model\n",
    "model = BayesianNetwork(\"Calculating Posterior\")\n",
    "\n",
    "# 2. Add more distributions\n",
    "K = ConditionalProbabilityTable(\n",
    "    table=[['low', 'yes', 0.4],\n",
    "           ['low', 'no', 0.6],\n",
    "           ['high', 'yes', 0.75],\n",
    "           ['high', 'no', 0.25]], parents=[T])\n",
    "M = ConditionalProbabilityTable(\n",
    "    table=[['yes', 'yes', 'yes', 0.5],\n",
    "           ['yes', 'yes', 'no', 0.5],\n",
    "           ['yes', 'no', 'yes', 0],\n",
    "           ['yes', 'no', 'no', 1],\n",
    "           ['no', 'yes', 'yes', 0],\n",
    "           ['no', 'yes', 'no', 1],\n",
    "           ['no', 'no', 'yes', 0],\n",
    "           ['no', 'no', 'no', 1]], parents=[J, K])\n",
    "\n",
    "# 3. Define nodes in our network that follow these distributions\n",
    "n0 = Node(T, name='Temperature')\n",
    "n1 = Node(J, name='John')\n",
    "n2 = Node(K, name='Kate')\n",
    "n3 = Node(M, name='Meet')\n",
    "model.add_states(n0, n1, n2, n3)\n",
    "\n",
    "# 4. Define the Edges for each Node in our model\n",
    "model.add_edge(n0, n1)\n",
    "model.add_edge(n0, n2)\n",
    "model.add_edge(n1, n3)\n",
    "model.add_edge(n2, n3)\n",
    "\n",
    "# 5. Bake the model\n",
    "model.bake()\n",
    "\n",
    "# Optional: Plot\n",
    "model.plot()"
   ]
  },
  {
   "cell_type": "markdown",
   "id": "949e4c19",
   "metadata": {},
   "source": [
    "I like the ability to plot (requires `matplotlib` and `pygraphviz`). Great feature!"
   ]
  },
  {
   "cell_type": "markdown",
   "id": "a8214e43",
   "metadata": {},
   "source": [
    "## Inference\n",
    "\n",
    "We would like to do a simple inference - what's the probability that they meet?\n",
    "\n",
    "In other words, what is the probability that they meet $P(M=\\text{'yes'})$?\n",
    "\n",
    "In `pomegranate` you can do this by specifying all of the probabilities like such:"
   ]
  },
  {
   "cell_type": "code",
   "execution_count": 112,
   "id": "048ed4f5",
   "metadata": {},
   "outputs": [
    {
     "data": {
      "text/plain": [
       "0.19749999999999995"
      ]
     },
     "execution_count": 112,
     "metadata": {},
     "output_type": "execute_result"
    }
   ],
   "source": [
    "model.probability([['high', 'yes', 'yes', 'yes'],\n",
    "                  ['high', 'yes', 'no', 'yes'],\n",
    "                  ['high', 'no', 'yes', 'yes'],                  \n",
    "                  ['high', 'no', 'no', 'yes'],\n",
    "                  ['low', 'yes', 'yes', 'yes'],\n",
    "                  ['low', 'yes', 'no', 'yes'],\n",
    "                  ['low', 'no', 'yes', 'yes'],                  \n",
    "                  ['low', 'no', 'no', 'yes'],                   \n",
    "                  ]).sum()"
   ]
  },
  {
   "cell_type": "markdown",
   "id": "38f5a580",
   "metadata": {},
   "source": [
    "There is also a `marginal` method to get the marginal distribution of each of the variables:"
   ]
  },
  {
   "cell_type": "code",
   "execution_count": 113,
   "id": "dce7c67a",
   "metadata": {},
   "outputs": [
    {
     "data": {
      "text/plain": [
       "(4,)"
      ]
     },
     "execution_count": 113,
     "metadata": {},
     "output_type": "execute_result"
    }
   ],
   "source": [
    "model.marginal().shape"
   ]
  },
  {
   "cell_type": "code",
   "execution_count": 110,
   "id": "740191e3",
   "metadata": {},
   "outputs": [
    {
     "data": {
      "text/plain": [
       "{\n",
       "    \"class\" : \"Distribution\",\n",
       "    \"dtype\" : \"str\",\n",
       "    \"name\" : \"DiscreteDistribution\",\n",
       "    \"parameters\" : [\n",
       "        {\n",
       "            \"no\" : 0.8109000000000001,\n",
       "            \"yes\" : 0.18910000000000005\n",
       "        }\n",
       "    ],\n",
       "    \"frozen\" : false\n",
       "}"
      ]
     },
     "execution_count": 110,
     "metadata": {},
     "output_type": "execute_result"
    }
   ],
   "source": [
    "model.marginal()[3]"
   ]
  },
  {
   "cell_type": "markdown",
   "id": "844815e1",
   "metadata": {},
   "source": [
    "Interesting that the marginal distribution is different than what I had calculated manually! There must be a bug in my model somewhere..."
   ]
  },
  {
   "cell_type": "markdown",
   "id": "4bf8fc22",
   "metadata": {},
   "source": [
    "## Impressions\n",
    "\n",
    "It looks like it's still too early for `pomegranate` when it comes to Bayesian Networks. It felt still very much WIP to use it - documentation needs help, and the error messages have not been helpful. Better to use a different library instead."
   ]
  },
  {
   "cell_type": "code",
   "execution_count": null,
   "id": "f43e720b",
   "metadata": {},
   "outputs": [],
   "source": []
  }
 ],
 "metadata": {
  "kernelspec": {
   "display_name": "Python 3 (ipykernel)",
   "language": "python",
   "name": "python3"
  },
  "language_info": {
   "codemirror_mode": {
    "name": "ipython",
    "version": 3
   },
   "file_extension": ".py",
   "mimetype": "text/x-python",
   "name": "python",
   "nbconvert_exporter": "python",
   "pygments_lexer": "ipython3",
   "version": "3.8.12"
  }
 },
 "nbformat": 4,
 "nbformat_minor": 5
}
