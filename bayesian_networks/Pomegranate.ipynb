{
 "cells": [
  {
   "cell_type": "code",
   "execution_count": 1,
   "id": "bc4c6977",
   "metadata": {},
   "outputs": [],
   "source": [
    "from pomegranate import *"
   ]
  },
  {
   "cell_type": "markdown",
   "id": "66c83910",
   "metadata": {},
   "source": [
    "Start by creating a distribution. For simplicity sake, we can create a very simple discrete distribution and play with it:"
   ]
  },
  {
   "cell_type": "code",
   "execution_count": 87,
   "id": "3f2e3da8",
   "metadata": {},
   "outputs": [
    {
     "data": {
      "text/plain": [
       "{\n",
       "    \"class\" : \"Distribution\",\n",
       "    \"dtype\" : \"str\",\n",
       "    \"name\" : \"DiscreteDistribution\",\n",
       "    \"parameters\" : [\n",
       "        {\n",
       "            \"yes\" : 0.4,\n",
       "            \"no\" : 0.6\n",
       "        }\n",
       "    ],\n",
       "    \"frozen\" : false\n",
       "}"
      ]
     },
     "execution_count": 87,
     "metadata": {},
     "output_type": "execute_result"
    }
   ],
   "source": [
    "# Initialize a distribution\n",
    "J = DiscreteDistribution({\"yes\":0.4, \"no\":0.6})\n",
    "J"
   ]
  },
  {
   "cell_type": "markdown",
   "id": "2406582f",
   "metadata": {},
   "source": [
    "We see this instantiated a `Distribution` object with the `parameters`. \n",
    "\n",
    "`pomegranate` has built in plotting functions. Given this very simple distribution, we can plot the pdf with the `.plot()` method:"
   ]
  },
  {
   "cell_type": "code",
   "execution_count": 88,
   "id": "cfa3da5f",
   "metadata": {},
   "outputs": [
    {
     "data": {
      "image/png": "[encoded data removed]",
      "text/plain": [
       "<Figure size 432x288 with 1 Axes>"
      ]
     },
     "metadata": {
      "needs_background": "light"
     },
     "output_type": "display_data"
    }
   ],
   "source": [
    "J.plot()"
   ]
  },
  {
   "cell_type": "markdown",
   "id": "f66caa84",
   "metadata": {},
   "source": [
    "A few other useful methods:\n",
    "\n",
    "* `sample(n)`: draw `n` samples from the distribution\n",
    "* `probability(X)`: predict the probability of X under this distribution"
   ]
  },
  {
   "cell_type": "code",
   "execution_count": 89,
   "id": "0e915a72",
   "metadata": {},
   "outputs": [
    {
     "data": {
      "text/plain": [
       "array(['no', 'no', 'yes'], dtype='<U3')"
      ]
     },
     "execution_count": 89,
     "metadata": {},
     "output_type": "execute_result"
    }
   ],
   "source": [
    "J.sample(3)"
   ]
  },
  {
   "cell_type": "code",
   "execution_count": 90,
   "id": "2e287ebf",
   "metadata": {},
   "outputs": [
    {
     "data": {
      "text/plain": [
       "0.4"
      ]
     },
     "execution_count": 90,
     "metadata": {},
     "output_type": "execute_result"
    }
   ],
   "source": [
    "J.probability('yes')"
   ]
  },
  {
   "cell_type": "markdown",
   "id": "00cd3b73",
   "metadata": {},
   "source": [
    "Let's add some more nodes and build a model to examine how we can do inference.\n",
    "\n",
    "The procedure for creating the network is as follows:\n",
    "\n",
    "1. Instantiate the `BayesianNetwork` model\n",
    "2. Define the distributions you want to use\n",
    "3. Create Node objects with these distributions and add them to the model\n",
    "4. Add edges to the model with the `.add_edge(edge1, edge2)` method\n",
    "5. Bake the model using the `.bake()` method"
   ]
  },
  {
   "cell_type": "code",
   "execution_count": 101,
   "id": "0fdbf64f",
   "metadata": {},
   "outputs": [],
   "source": [
    "# 1. Instantiate the BayesianNetwork model\n",
    "model = BayesianNetwork(\"Calculating Posterior\")\n",
    "\n",
    "\n",
    "# 2. Add more distributions\n",
    "K = DiscreteDistribution({\"yes\":0.5, \"no\":0.5})\n",
    "# Conditional Probability Table takes an argument 'table' which is a list of lists, with each inner list is a row. \n",
    "# A second argument 'parents' defines the parent distributions upon which this table depends.\n",
    "\n",
    "M = ConditionalProbabilityTable(\n",
    "    table=[['yes', 'yes', 'yes', 0.5],\n",
    "           ['yes', 'yes', 'no', 0.5],\n",
    "           ['yes', 'no', 'yes', 0],\n",
    "           ['yes', 'no', 'no', 1],\n",
    "           ['no', 'yes', 'yes', 0],\n",
    "           ['no', 'yes', 'no', 1],\n",
    "           ['no', 'no', 'yes', 0],\n",
    "           ['no', 'no', 'no', 1]], parents=[J, K])\n",
    "\n",
    "# 3. Define nodes in our network that follow these distributions\n",
    "n1 = Node(J, name='John')\n",
    "n2 = Node(K, name='Kate')\n",
    "n3 = Node(M, name='Meet')\n",
    "model.add_states(n1, n2, n3)"
   ]
  },
  {
   "cell_type": "code",
   "execution_count": 102,
   "id": "204bd58c",
   "metadata": {},
   "outputs": [
    {
     "data": {
      "image/png": "[encoded data removed]",
      "text/plain": [
       "<Figure size 432x288 with 1 Axes>"
      ]
     },
     "metadata": {
      "needs_background": "light"
     },
     "output_type": "display_data"
    }
   ],
   "source": [
    "# 4. Define the Edges for each Node in our model\n",
    "model.add_edge(n1, n3)\n",
    "model.add_edge(n2, n3)\n",
    "\n",
    "# 5. Bake the model\n",
    "model.bake()\n",
    "\n",
    "# Optional: Plot\n",
    "model.plot()"
   ]
  },
  {
   "cell_type": "markdown",
   "id": "eaf2d583",
   "metadata": {},
   "source": [
    "## Inference"
   ]
  },
  {
   "cell_type": "markdown",
   "id": "c55c1904",
   "metadata": {},
   "source": [
    "We would like to do a simple inference - what's the probability that they meet?"
   ]
  },
  {
   "cell_type": "code",
   "execution_count": 107,
   "id": "b4f47ecf",
   "metadata": {},
   "outputs": [
    {
     "data": {
      "text/plain": [
       "array(['yes', None, {\n",
       "                        \"class\" : \"Distribution\",\n",
       "                        \"dtype\" : \"str\",\n",
       "                        \"name\" : \"DiscreteDistribution\",\n",
       "                        \"parameters\" : [\n",
       "                            {\n",
       "                                \"no\" : 0.5,\n",
       "                                \"yes\" : 0.5\n",
       "                            }\n",
       "                        ],\n",
       "                        \"frozen\" : false\n",
       "                    }                                   ], dtype=object)"
      ]
     },
     "execution_count": 107,
     "metadata": {},
     "output_type": "execute_result"
    }
   ],
   "source": [
    "model.predict_proba({'John':'yes', 'Kate':None})"
   ]
  },
  {
   "cell_type": "markdown",
   "id": "b3280e19",
   "metadata": {},
   "source": [
    "## Impressions\n",
    "\n",
    "It looks like it's still too early for `pomegranate` when it comes to Bayesian Networks. It felt still very much WIP to use it - documentation needs help, and the error messages have not been helpful. Better to use a different library instead."
   ]
  },
  {
   "cell_type": "code",
   "execution_count": null,
   "id": "b43bcc65",
   "metadata": {},
   "outputs": [],
   "source": []
  }
 ],
 "metadata": {
  "kernelspec": {
   "display_name": "Python 3 (ipykernel)",
   "language": "python",
   "name": "python3"
  },
  "language_info": {
   "codemirror_mode": {
    "name": "ipython",
    "version": 3
   },
   "file_extension": ".py",
   "mimetype": "text/x-python",
   "name": "python",
   "nbconvert_exporter": "python",
   "pygments_lexer": "ipython3",
   "version": "3.8.12"
  }
 },
 "nbformat": 4,
 "nbformat_minor": 5
}
