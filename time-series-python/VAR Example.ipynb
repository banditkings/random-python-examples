{
 "cells": [
  {
   "cell_type": "markdown",
   "id": "365c2a3b",
   "metadata": {},
   "source": [
    "# AutoRegressive techniques in Python\n",
    "\n",
    "Starter notebook to do some basic stuff with [statsmodels](https://www.statsmodels.org/stable/index.html) in Python for finance analysts who are new to Python data analysis. I won't explain all of the python syntax but just demonstrate bare minimum required to:\n",
    "\n",
    "0. Import data in from excel\n",
    "1. Run a simple linear regression with `Statsmodels`\n",
    "2. Run an AutoRegression\n",
    "3. Run a Vector AutorRegression\n",
    "\n",
    "### Reference: \n",
    "\n",
    "* [Statsmodels documentation](https://www.statsmodels.org/stable/index.html)"
   ]
  },
  {
   "cell_type": "markdown",
   "id": "f3103d0f",
   "metadata": {},
   "source": [
    "## First: Import some libraries"
   ]
  },
  {
   "cell_type": "code",
   "execution_count": 205,
   "id": "c69b20c0",
   "metadata": {},
   "outputs": [],
   "source": [
    "import pandas as pd\n",
    "import statsmodels.api as sm\n",
    "\n",
    "# plotting\n",
    "import seaborn as sns\n",
    "sns.set()  # set the default plotting backend to seaborn"
   ]
  },
  {
   "cell_type": "markdown",
   "id": "34c5f315",
   "metadata": {},
   "source": [
    "## Load Data\n",
    "\n",
    "For the purposes of this demo we'll use a built-in dataset."
   ]
  },
  {
   "cell_type": "code",
   "execution_count": 70,
   "id": "bfb6ad22",
   "metadata": {},
   "outputs": [],
   "source": [
    "# Load Data\n",
    "longley = sm.datasets.longley.load_pandas()\n",
    "# Convert to dataframe to keep it simple\n",
    "df = longley.data"
   ]
  },
  {
   "cell_type": "markdown",
   "id": "7fae8400",
   "metadata": {},
   "source": [
    "This classic dataset of labor statistics was one of the first used to test the accuracy of least squares computations. The response variable (y) is the Total Derived Employment and the predictor variables are GNP Implicit Price Deflator with Year 1954 = 100 (x1), Gross National Product (x2), Unemployment (x3), Size of Armed Forces (x4), Non-Institutional Population Age 14 & Over (x5), and Year (x6). [Source](https://www.itl.nist.gov/div898/strd/lls/data/LINKS/i-Longley.shtml)\n",
    "\n",
    "## Side Note: If you want to load in your own data\n",
    "\n",
    "If you want to load in your own data, I'd recommend two options:\n",
    "\n",
    "### Option 1. Load from an excel file in the current directory\n",
    "\n",
    "```python\n",
    "df = pd.read_excel(\"filename.xlsx\")\n",
    "```\n",
    "\n",
    "### Option 2. Copy from your clipboard\n",
    "\n",
    "A simpler alternative, especially if you're new to python, is that you can use a method called `read_clipboard()` that might work for you. In your excel file, simply highlight the data table you want to use and copy it with Ctrl+V, and then switch to your jupyter notebook and enter:\n",
    "\n",
    "```python\n",
    "df = pd.read_clipboard()\n",
    "```\n",
    "\n",
    "If it doesn't work, you may need to reformat your data in excel. "
   ]
  },
  {
   "cell_type": "code",
   "execution_count": 71,
   "id": "2559444b",
   "metadata": {},
   "outputs": [
    {
     "data": {
      "text/html": [
       "<div>\n",
       "<style scoped>\n",
       "    .dataframe tbody tr th:only-of-type {\n",
       "        vertical-align: middle;\n",
       "    }\n",
       "\n",
       "    .dataframe tbody tr th {\n",
       "        vertical-align: top;\n",
       "    }\n",
       "\n",
       "    .dataframe thead th {\n",
       "        text-align: right;\n",
       "    }\n",
       "</style>\n",
       "<table border=\"1\" class=\"dataframe\">\n",
       "  <thead>\n",
       "    <tr style=\"text-align: right;\">\n",
       "      <th></th>\n",
       "      <th>TOTEMP</th>\n",
       "      <th>GNPDEFL</th>\n",
       "      <th>GNP</th>\n",
       "      <th>UNEMP</th>\n",
       "      <th>ARMED</th>\n",
       "      <th>POP</th>\n",
       "      <th>YEAR</th>\n",
       "    </tr>\n",
       "  </thead>\n",
       "  <tbody>\n",
       "    <tr>\n",
       "      <th>0</th>\n",
       "      <td>60323.0</td>\n",
       "      <td>83.0</td>\n",
       "      <td>234289.0</td>\n",
       "      <td>2356.0</td>\n",
       "      <td>1590.0</td>\n",
       "      <td>107608.0</td>\n",
       "      <td>1947.0</td>\n",
       "    </tr>\n",
       "    <tr>\n",
       "      <th>1</th>\n",
       "      <td>61122.0</td>\n",
       "      <td>88.5</td>\n",
       "      <td>259426.0</td>\n",
       "      <td>2325.0</td>\n",
       "      <td>1456.0</td>\n",
       "      <td>108632.0</td>\n",
       "      <td>1948.0</td>\n",
       "    </tr>\n",
       "    <tr>\n",
       "      <th>2</th>\n",
       "      <td>60171.0</td>\n",
       "      <td>88.2</td>\n",
       "      <td>258054.0</td>\n",
       "      <td>3682.0</td>\n",
       "      <td>1616.0</td>\n",
       "      <td>109773.0</td>\n",
       "      <td>1949.0</td>\n",
       "    </tr>\n",
       "    <tr>\n",
       "      <th>3</th>\n",
       "      <td>61187.0</td>\n",
       "      <td>89.5</td>\n",
       "      <td>284599.0</td>\n",
       "      <td>3351.0</td>\n",
       "      <td>1650.0</td>\n",
       "      <td>110929.0</td>\n",
       "      <td>1950.0</td>\n",
       "    </tr>\n",
       "    <tr>\n",
       "      <th>4</th>\n",
       "      <td>63221.0</td>\n",
       "      <td>96.2</td>\n",
       "      <td>328975.0</td>\n",
       "      <td>2099.0</td>\n",
       "      <td>3099.0</td>\n",
       "      <td>112075.0</td>\n",
       "      <td>1951.0</td>\n",
       "    </tr>\n",
       "  </tbody>\n",
       "</table>\n",
       "</div>"
      ],
      "text/plain": [
       "    TOTEMP  GNPDEFL       GNP   UNEMP   ARMED       POP    YEAR\n",
       "0  60323.0     83.0  234289.0  2356.0  1590.0  107608.0  1947.0\n",
       "1  61122.0     88.5  259426.0  2325.0  1456.0  108632.0  1948.0\n",
       "2  60171.0     88.2  258054.0  3682.0  1616.0  109773.0  1949.0\n",
       "3  61187.0     89.5  284599.0  3351.0  1650.0  110929.0  1950.0\n",
       "4  63221.0     96.2  328975.0  2099.0  3099.0  112075.0  1951.0"
      ]
     },
     "execution_count": 71,
     "metadata": {},
     "output_type": "execute_result"
    }
   ],
   "source": [
    "# see dataframe representation\n",
    "df.head()"
   ]
  },
  {
   "cell_type": "markdown",
   "id": "ceb2c94f",
   "metadata": {},
   "source": [
    "# EDA, Plotting"
   ]
  },
  {
   "cell_type": "code",
   "execution_count": 260,
   "id": "0e02d7a7",
   "metadata": {},
   "outputs": [
    {
     "name": "stderr",
     "output_type": "stream",
     "text": [
      "*c* argument looks like a single numeric RGB or RGBA sequence, which should be avoided as value-mapping will have precedence in case its length matches with *x* & *y*.  Please use the *color* keyword-argument or provide a 2D array with a single row if you intend to specify the same RGB or RGBA value for all points.\n"
     ]
    },
    {
     "data": {
      "text/plain": [
       "<AxesSubplot:title={'center':'A simple plot'}, xlabel='GNP', ylabel='TOTEMP'>"
      ]
     },
     "execution_count": 260,
     "metadata": {},
     "output_type": "execute_result"
    },
    {
     "data": {
      "image/png": "[encoded data removed]",
      "text/plain": [
       "<Figure size 720x432 with 1 Axes>"
      ]
     },
     "metadata": {},
     "output_type": "display_data"
    }
   ],
   "source": [
    "# Here we will use seaborn to perform some simple plotting\n",
    "df.plot(x=\"GNP\", y=\"TOTEMP\", kind=\"scatter\", title=\"A simple plot\", figsize=(10,6))"
   ]
  },
  {
   "cell_type": "code",
   "execution_count": 261,
   "id": "e5c1da9e",
   "metadata": {},
   "outputs": [
    {
     "data": {
      "text/html": [
       "<div>\n",
       "<style scoped>\n",
       "    .dataframe tbody tr th:only-of-type {\n",
       "        vertical-align: middle;\n",
       "    }\n",
       "\n",
       "    .dataframe tbody tr th {\n",
       "        vertical-align: top;\n",
       "    }\n",
       "\n",
       "    .dataframe thead th {\n",
       "        text-align: right;\n",
       "    }\n",
       "</style>\n",
       "<table border=\"1\" class=\"dataframe\">\n",
       "  <thead>\n",
       "    <tr style=\"text-align: right;\">\n",
       "      <th></th>\n",
       "      <th>TOTEMP</th>\n",
       "      <th>GNPDEFL</th>\n",
       "      <th>GNP</th>\n",
       "      <th>UNEMP</th>\n",
       "      <th>ARMED</th>\n",
       "      <th>POP</th>\n",
       "      <th>YEAR</th>\n",
       "    </tr>\n",
       "  </thead>\n",
       "  <tbody>\n",
       "    <tr>\n",
       "      <th>count</th>\n",
       "      <td>16.000000</td>\n",
       "      <td>16.000000</td>\n",
       "      <td>16.000000</td>\n",
       "      <td>16.000000</td>\n",
       "      <td>16.000000</td>\n",
       "      <td>16.000000</td>\n",
       "      <td>16.000000</td>\n",
       "    </tr>\n",
       "    <tr>\n",
       "      <th>mean</th>\n",
       "      <td>65317.000000</td>\n",
       "      <td>101.681250</td>\n",
       "      <td>387698.437500</td>\n",
       "      <td>3193.312500</td>\n",
       "      <td>2606.687500</td>\n",
       "      <td>117424.000000</td>\n",
       "      <td>1954.500000</td>\n",
       "    </tr>\n",
       "    <tr>\n",
       "      <th>std</th>\n",
       "      <td>3511.968356</td>\n",
       "      <td>10.791553</td>\n",
       "      <td>99394.937795</td>\n",
       "      <td>934.464247</td>\n",
       "      <td>695.919604</td>\n",
       "      <td>6956.101561</td>\n",
       "      <td>4.760952</td>\n",
       "    </tr>\n",
       "    <tr>\n",
       "      <th>min</th>\n",
       "      <td>60171.000000</td>\n",
       "      <td>83.000000</td>\n",
       "      <td>234289.000000</td>\n",
       "      <td>1870.000000</td>\n",
       "      <td>1456.000000</td>\n",
       "      <td>107608.000000</td>\n",
       "      <td>1947.000000</td>\n",
       "    </tr>\n",
       "    <tr>\n",
       "      <th>25%</th>\n",
       "      <td>62712.500000</td>\n",
       "      <td>94.525000</td>\n",
       "      <td>317881.000000</td>\n",
       "      <td>2348.250000</td>\n",
       "      <td>2298.000000</td>\n",
       "      <td>111788.500000</td>\n",
       "      <td>1950.750000</td>\n",
       "    </tr>\n",
       "    <tr>\n",
       "      <th>50%</th>\n",
       "      <td>65504.000000</td>\n",
       "      <td>100.600000</td>\n",
       "      <td>381427.000000</td>\n",
       "      <td>3143.500000</td>\n",
       "      <td>2717.500000</td>\n",
       "      <td>116803.500000</td>\n",
       "      <td>1954.500000</td>\n",
       "    </tr>\n",
       "    <tr>\n",
       "      <th>75%</th>\n",
       "      <td>68290.500000</td>\n",
       "      <td>111.250000</td>\n",
       "      <td>454085.500000</td>\n",
       "      <td>3842.500000</td>\n",
       "      <td>3060.750000</td>\n",
       "      <td>122304.000000</td>\n",
       "      <td>1958.250000</td>\n",
       "    </tr>\n",
       "    <tr>\n",
       "      <th>max</th>\n",
       "      <td>70551.000000</td>\n",
       "      <td>116.900000</td>\n",
       "      <td>554894.000000</td>\n",
       "      <td>4806.000000</td>\n",
       "      <td>3594.000000</td>\n",
       "      <td>130081.000000</td>\n",
       "      <td>1962.000000</td>\n",
       "    </tr>\n",
       "  </tbody>\n",
       "</table>\n",
       "</div>"
      ],
      "text/plain": [
       "             TOTEMP     GNPDEFL            GNP        UNEMP        ARMED  \\\n",
       "count     16.000000   16.000000      16.000000    16.000000    16.000000   \n",
       "mean   65317.000000  101.681250  387698.437500  3193.312500  2606.687500   \n",
       "std     3511.968356   10.791553   99394.937795   934.464247   695.919604   \n",
       "min    60171.000000   83.000000  234289.000000  1870.000000  1456.000000   \n",
       "25%    62712.500000   94.525000  317881.000000  2348.250000  2298.000000   \n",
       "50%    65504.000000  100.600000  381427.000000  3143.500000  2717.500000   \n",
       "75%    68290.500000  111.250000  454085.500000  3842.500000  3060.750000   \n",
       "max    70551.000000  116.900000  554894.000000  4806.000000  3594.000000   \n",
       "\n",
       "                 POP         YEAR  \n",
       "count      16.000000    16.000000  \n",
       "mean   117424.000000  1954.500000  \n",
       "std      6956.101561     4.760952  \n",
       "min    107608.000000  1947.000000  \n",
       "25%    111788.500000  1950.750000  \n",
       "50%    116803.500000  1954.500000  \n",
       "75%    122304.000000  1958.250000  \n",
       "max    130081.000000  1962.000000  "
      ]
     },
     "execution_count": 261,
     "metadata": {},
     "output_type": "execute_result"
    }
   ],
   "source": [
    "df.describe()"
   ]
  },
  {
   "cell_type": "code",
   "execution_count": 263,
   "id": "93a18961",
   "metadata": {},
   "outputs": [
    {
     "data": {
      "text/plain": [
       "array([[<AxesSubplot:title={'center':'TOTEMP'}>]], dtype=object)"
      ]
     },
     "execution_count": 263,
     "metadata": {},
     "output_type": "execute_result"
    },
    {
     "data": {
      "image/png": "[encoded data removed]",
      "text/plain": [
       "<Figure size 432x288 with 1 Axes>"
      ]
     },
     "metadata": {},
     "output_type": "display_data"
    }
   ],
   "source": [
    "# look at distributions\n",
    "df.hist('TOTEMP')"
   ]
  },
  {
   "cell_type": "markdown",
   "id": "e4c23c02",
   "metadata": {},
   "source": [
    "### Correlation heatmap\n",
    "\n",
    "You can easily find the correlation values in a dataframe with the `.corr()` method."
   ]
  },
  {
   "cell_type": "code",
   "execution_count": 264,
   "id": "0b074589",
   "metadata": {},
   "outputs": [
    {
     "data": {
      "text/html": [
       "<div>\n",
       "<style scoped>\n",
       "    .dataframe tbody tr th:only-of-type {\n",
       "        vertical-align: middle;\n",
       "    }\n",
       "\n",
       "    .dataframe tbody tr th {\n",
       "        vertical-align: top;\n",
       "    }\n",
       "\n",
       "    .dataframe thead th {\n",
       "        text-align: right;\n",
       "    }\n",
       "</style>\n",
       "<table border=\"1\" class=\"dataframe\">\n",
       "  <thead>\n",
       "    <tr style=\"text-align: right;\">\n",
       "      <th></th>\n",
       "      <th>TOTEMP</th>\n",
       "      <th>GNPDEFL</th>\n",
       "      <th>GNP</th>\n",
       "      <th>UNEMP</th>\n",
       "      <th>ARMED</th>\n",
       "      <th>POP</th>\n",
       "      <th>YEAR</th>\n",
       "    </tr>\n",
       "  </thead>\n",
       "  <tbody>\n",
       "    <tr>\n",
       "      <th>TOTEMP</th>\n",
       "      <td>1.000000</td>\n",
       "      <td>0.970899</td>\n",
       "      <td>0.983552</td>\n",
       "      <td>0.502498</td>\n",
       "      <td>0.457307</td>\n",
       "      <td>0.960391</td>\n",
       "      <td>0.971329</td>\n",
       "    </tr>\n",
       "    <tr>\n",
       "      <th>GNPDEFL</th>\n",
       "      <td>0.970899</td>\n",
       "      <td>1.000000</td>\n",
       "      <td>0.991589</td>\n",
       "      <td>0.620633</td>\n",
       "      <td>0.464744</td>\n",
       "      <td>0.979163</td>\n",
       "      <td>0.991149</td>\n",
       "    </tr>\n",
       "    <tr>\n",
       "      <th>GNP</th>\n",
       "      <td>0.983552</td>\n",
       "      <td>0.991589</td>\n",
       "      <td>1.000000</td>\n",
       "      <td>0.604261</td>\n",
       "      <td>0.446437</td>\n",
       "      <td>0.991090</td>\n",
       "      <td>0.995273</td>\n",
       "    </tr>\n",
       "    <tr>\n",
       "      <th>UNEMP</th>\n",
       "      <td>0.502498</td>\n",
       "      <td>0.620633</td>\n",
       "      <td>0.604261</td>\n",
       "      <td>1.000000</td>\n",
       "      <td>-0.177421</td>\n",
       "      <td>0.686552</td>\n",
       "      <td>0.668257</td>\n",
       "    </tr>\n",
       "    <tr>\n",
       "      <th>ARMED</th>\n",
       "      <td>0.457307</td>\n",
       "      <td>0.464744</td>\n",
       "      <td>0.446437</td>\n",
       "      <td>-0.177421</td>\n",
       "      <td>1.000000</td>\n",
       "      <td>0.364416</td>\n",
       "      <td>0.417245</td>\n",
       "    </tr>\n",
       "    <tr>\n",
       "      <th>POP</th>\n",
       "      <td>0.960391</td>\n",
       "      <td>0.979163</td>\n",
       "      <td>0.991090</td>\n",
       "      <td>0.686552</td>\n",
       "      <td>0.364416</td>\n",
       "      <td>1.000000</td>\n",
       "      <td>0.993953</td>\n",
       "    </tr>\n",
       "    <tr>\n",
       "      <th>YEAR</th>\n",
       "      <td>0.971329</td>\n",
       "      <td>0.991149</td>\n",
       "      <td>0.995273</td>\n",
       "      <td>0.668257</td>\n",
       "      <td>0.417245</td>\n",
       "      <td>0.993953</td>\n",
       "      <td>1.000000</td>\n",
       "    </tr>\n",
       "  </tbody>\n",
       "</table>\n",
       "</div>"
      ],
      "text/plain": [
       "           TOTEMP   GNPDEFL       GNP     UNEMP     ARMED       POP      YEAR\n",
       "TOTEMP   1.000000  0.970899  0.983552  0.502498  0.457307  0.960391  0.971329\n",
       "GNPDEFL  0.970899  1.000000  0.991589  0.620633  0.464744  0.979163  0.991149\n",
       "GNP      0.983552  0.991589  1.000000  0.604261  0.446437  0.991090  0.995273\n",
       "UNEMP    0.502498  0.620633  0.604261  1.000000 -0.177421  0.686552  0.668257\n",
       "ARMED    0.457307  0.464744  0.446437 -0.177421  1.000000  0.364416  0.417245\n",
       "POP      0.960391  0.979163  0.991090  0.686552  0.364416  1.000000  0.993953\n",
       "YEAR     0.971329  0.991149  0.995273  0.668257  0.417245  0.993953  1.000000"
      ]
     },
     "execution_count": 264,
     "metadata": {},
     "output_type": "execute_result"
    }
   ],
   "source": [
    "df.corr()"
   ]
  },
  {
   "cell_type": "markdown",
   "id": "990cde63",
   "metadata": {},
   "source": [
    "We can visualize this simply with a heatmap. Use `sns.heatmap()` to visualize this heatmap:"
   ]
  },
  {
   "cell_type": "code",
   "execution_count": 265,
   "id": "5efa1270",
   "metadata": {},
   "outputs": [
    {
     "data": {
      "text/plain": [
       "<AxesSubplot:>"
      ]
     },
     "execution_count": 265,
     "metadata": {},
     "output_type": "execute_result"
    },
    {
     "data": {
      "image/png": "[encoded data removed]",
      "text/plain": [
       "<Figure size 432x288 with 2 Axes>"
      ]
     },
     "metadata": {},
     "output_type": "display_data"
    }
   ],
   "source": [
    "sns.heatmap(df.corr())"
   ]
  },
  {
   "cell_type": "markdown",
   "id": "c527a06f",
   "metadata": {},
   "source": [
    "Notice a lot of multicollinearity here so you should exclude some of those terms if we want to use linear regression. [Here's an article on why multicollinearity is bad and what you can do about it. ](https://www.analyticsvidhya.com/blog/2020/03/what-is-multicollinearity/#:~:text=Multicollinearity%20occurs%20when%20two%20or,variable%20in%20a%20regression%20model.)"
   ]
  },
  {
   "cell_type": "markdown",
   "id": "293e25ca",
   "metadata": {},
   "source": [
    "# Linear Regression\n",
    "\n",
    "* [Statsmodels Docs](https://www.statsmodels.org/devel/regression.html)\n",
    "\n",
    "Simple example of multiple linear regression with ordinary least squares (the 'vanilla' linear regression). Here I chose *not* to use the R-style formulas for simplicity."
   ]
  },
  {
   "cell_type": "code",
   "execution_count": 152,
   "id": "a993430c",
   "metadata": {},
   "outputs": [
    {
     "name": "stderr",
     "output_type": "stream",
     "text": [
      "/Users/nelsonta/opt/anaconda3/envs/explore_new/lib/python3.8/site-packages/scipy/stats/stats.py:1603: UserWarning: kurtosistest only valid for n>=20 ... continuing anyway, n=16\n",
      "  warnings.warn(\"kurtosistest only valid for n>=20 ... continuing \"\n"
     ]
    },
    {
     "data": {
      "text/html": [
       "<table class=\"simpletable\">\n",
       "<caption>OLS Regression Results</caption>\n",
       "<tr>\n",
       "  <th>Dep. Variable:</th>         <td>TOTEMP</td>      <th>  R-squared:         </th> <td>   0.987</td>\n",
       "</tr>\n",
       "<tr>\n",
       "  <th>Model:</th>                   <td>OLS</td>       <th>  Adj. R-squared:    </th> <td>   0.981</td>\n",
       "</tr>\n",
       "<tr>\n",
       "  <th>Method:</th>             <td>Least Squares</td>  <th>  F-statistic:       </th> <td>   156.4</td>\n",
       "</tr>\n",
       "<tr>\n",
       "  <th>Date:</th>             <td>Thu, 16 Jun 2022</td> <th>  Prob (F-statistic):</th> <td>3.70e-09</td>\n",
       "</tr>\n",
       "<tr>\n",
       "  <th>Time:</th>                 <td>15:15:04</td>     <th>  Log-Likelihood:    </th> <td> -117.83</td>\n",
       "</tr>\n",
       "<tr>\n",
       "  <th>No. Observations:</th>      <td>    16</td>      <th>  AIC:               </th> <td>   247.7</td>\n",
       "</tr>\n",
       "<tr>\n",
       "  <th>Df Residuals:</th>          <td>    10</td>      <th>  BIC:               </th> <td>   252.3</td>\n",
       "</tr>\n",
       "<tr>\n",
       "  <th>Df Model:</th>              <td>     5</td>      <th>                     </th>     <td> </td>   \n",
       "</tr>\n",
       "<tr>\n",
       "  <th>Covariance Type:</th>      <td>nonrobust</td>    <th>                     </th>     <td> </td>   \n",
       "</tr>\n",
       "</table>\n",
       "<table class=\"simpletable\">\n",
       "<tr>\n",
       "     <td></td>        <th>coef</th>     <th>std err</th>      <th>t</th>      <th>P>|t|</th>  <th>[0.025</th>    <th>0.975]</th>  \n",
       "</tr>\n",
       "<tr>\n",
       "  <th>const</th>   <td> 9.246e+04</td> <td> 3.52e+04</td> <td>    2.629</td> <td> 0.025</td> <td> 1.41e+04</td> <td> 1.71e+05</td>\n",
       "</tr>\n",
       "<tr>\n",
       "  <th>GNPDEFL</th> <td>  -48.4628</td> <td>  132.248</td> <td>   -0.366</td> <td> 0.722</td> <td> -343.129</td> <td>  246.204</td>\n",
       "</tr>\n",
       "<tr>\n",
       "  <th>GNP</th>     <td>    0.0720</td> <td>    0.032</td> <td>    2.269</td> <td> 0.047</td> <td>    0.001</td> <td>    0.143</td>\n",
       "</tr>\n",
       "<tr>\n",
       "  <th>UNEMP</th>   <td>   -0.4039</td> <td>    0.439</td> <td>   -0.921</td> <td> 0.379</td> <td>   -1.381</td> <td>    0.573</td>\n",
       "</tr>\n",
       "<tr>\n",
       "  <th>ARMED</th>   <td>   -0.5605</td> <td>    0.284</td> <td>   -1.975</td> <td> 0.077</td> <td>   -1.193</td> <td>    0.072</td>\n",
       "</tr>\n",
       "<tr>\n",
       "  <th>POP</th>     <td>   -0.4035</td> <td>    0.330</td> <td>   -1.222</td> <td> 0.250</td> <td>   -1.139</td> <td>    0.332</td>\n",
       "</tr>\n",
       "</table>\n",
       "<table class=\"simpletable\">\n",
       "<tr>\n",
       "  <th>Omnibus:</th>       <td> 1.572</td> <th>  Durbin-Watson:     </th> <td>   1.248</td>\n",
       "</tr>\n",
       "<tr>\n",
       "  <th>Prob(Omnibus):</th> <td> 0.456</td> <th>  Jarque-Bera (JB):  </th> <td>   0.642</td>\n",
       "</tr>\n",
       "<tr>\n",
       "  <th>Skew:</th>          <td> 0.489</td> <th>  Prob(JB):          </th> <td>   0.725</td>\n",
       "</tr>\n",
       "<tr>\n",
       "  <th>Kurtosis:</th>      <td> 3.079</td> <th>  Cond. No.          </th> <td>1.21e+08</td>\n",
       "</tr>\n",
       "</table><br/><br/>Notes:<br/>[1] Standard Errors assume that the covariance matrix of the errors is correctly specified.<br/>[2] The condition number is large, 1.21e+08. This might indicate that there are<br/>strong multicollinearity or other numerical problems."
      ],
      "text/plain": [
       "<class 'statsmodels.iolib.summary.Summary'>\n",
       "\"\"\"\n",
       "                            OLS Regression Results                            \n",
       "==============================================================================\n",
       "Dep. Variable:                 TOTEMP   R-squared:                       0.987\n",
       "Model:                            OLS   Adj. R-squared:                  0.981\n",
       "Method:                 Least Squares   F-statistic:                     156.4\n",
       "Date:                Thu, 16 Jun 2022   Prob (F-statistic):           3.70e-09\n",
       "Time:                        15:15:04   Log-Likelihood:                -117.83\n",
       "No. Observations:                  16   AIC:                             247.7\n",
       "Df Residuals:                      10   BIC:                             252.3\n",
       "Df Model:                           5                                         \n",
       "Covariance Type:            nonrobust                                         \n",
       "==============================================================================\n",
       "                 coef    std err          t      P>|t|      [0.025      0.975]\n",
       "------------------------------------------------------------------------------\n",
       "const       9.246e+04   3.52e+04      2.629      0.025    1.41e+04    1.71e+05\n",
       "GNPDEFL      -48.4628    132.248     -0.366      0.722    -343.129     246.204\n",
       "GNP            0.0720      0.032      2.269      0.047       0.001       0.143\n",
       "UNEMP         -0.4039      0.439     -0.921      0.379      -1.381       0.573\n",
       "ARMED         -0.5605      0.284     -1.975      0.077      -1.193       0.072\n",
       "POP           -0.4035      0.330     -1.222      0.250      -1.139       0.332\n",
       "==============================================================================\n",
       "Omnibus:                        1.572   Durbin-Watson:                   1.248\n",
       "Prob(Omnibus):                  0.456   Jarque-Bera (JB):                0.642\n",
       "Skew:                           0.489   Prob(JB):                        0.725\n",
       "Kurtosis:                       3.079   Cond. No.                     1.21e+08\n",
       "==============================================================================\n",
       "\n",
       "Notes:\n",
       "[1] Standard Errors assume that the covariance matrix of the errors is correctly specified.\n",
       "[2] The condition number is large, 1.21e+08. This might indicate that there are\n",
       "strong multicollinearity or other numerical problems.\n",
       "\"\"\""
      ]
     },
     "execution_count": 152,
     "metadata": {},
     "output_type": "execute_result"
    }
   ],
   "source": [
    "y = df.iloc[:, 0]\n",
    "X = df.iloc[:, 1:]\n",
    "\n",
    "# Add a constant term if we want to fit an intercept\n",
    "X = sm.add_constant(X, prepend=True)\n",
    "# Drop the YEAR column\n",
    "X = X.drop(\"YEAR\", axis=1)\n",
    "\n",
    "# Declare/specify the model\n",
    "mod = sm.OLS(endog=y, exog=X)\n",
    "# Fit the model\n",
    "res = mod.fit()\n",
    "# Present the summary statistics from the fit\n",
    "res.summary()"
   ]
  },
  {
   "cell_type": "markdown",
   "id": "c88d87b7",
   "metadata": {},
   "source": [
    "Notice that `statsmodels` called out in note 2 that there is strong multicollinearity, which we saw earlier in the correlation matrix and the heatmap. "
   ]
  },
  {
   "cell_type": "markdown",
   "id": "a924d0f6",
   "metadata": {},
   "source": [
    "## Dealing with multicollinearity\n",
    "\n",
    "We'll use VIF to find the variables that contribute the most to the model, borrowing this helper function from [this article](https://www.analyticsvidhya.com/blog/2020/03/what-is-multicollinearity/#:~:text=Multicollinearity%20occurs%20when%20two%20or,variable%20in%20a%20regression%20model.)"
   ]
  },
  {
   "cell_type": "code",
   "execution_count": 215,
   "id": "928741a8",
   "metadata": {},
   "outputs": [],
   "source": [
    "from statsmodels.stats.outliers_influence import variance_inflation_factor\n",
    "\n",
    "def calc_vif(X):\n",
    "\n",
    "    # Calculating VIF\n",
    "    vif = pd.DataFrame()\n",
    "    vif[\"variables\"] = X.columns\n",
    "    vif[\"VIF\"] = [variance_inflation_factor(X.values, i) for i in range(X.shape[1])]\n",
    "\n",
    "    return(vif)"
   ]
  },
  {
   "cell_type": "code",
   "execution_count": 218,
   "id": "4b452897",
   "metadata": {},
   "outputs": [
    {
     "data": {
      "text/html": [
       "<div>\n",
       "<style scoped>\n",
       "    .dataframe tbody tr th:only-of-type {\n",
       "        vertical-align: middle;\n",
       "    }\n",
       "\n",
       "    .dataframe tbody tr th {\n",
       "        vertical-align: top;\n",
       "    }\n",
       "\n",
       "    .dataframe thead th {\n",
       "        text-align: right;\n",
       "    }\n",
       "</style>\n",
       "<table border=\"1\" class=\"dataframe\">\n",
       "  <thead>\n",
       "    <tr style=\"text-align: right;\">\n",
       "      <th></th>\n",
       "      <th>variables</th>\n",
       "      <th>VIF</th>\n",
       "    </tr>\n",
       "  </thead>\n",
       "  <tbody>\n",
       "    <tr>\n",
       "      <th>0</th>\n",
       "      <td>GNPDEFL</td>\n",
       "      <td>5209.481637</td>\n",
       "    </tr>\n",
       "    <tr>\n",
       "      <th>1</th>\n",
       "      <td>GNP</td>\n",
       "      <td>306.539846</td>\n",
       "    </tr>\n",
       "    <tr>\n",
       "      <th>2</th>\n",
       "      <td>UNEMP</td>\n",
       "      <td>37.738499</td>\n",
       "    </tr>\n",
       "    <tr>\n",
       "      <th>3</th>\n",
       "      <td>ARMED</td>\n",
       "      <td>39.980260</td>\n",
       "    </tr>\n",
       "    <tr>\n",
       "      <th>4</th>\n",
       "      <td>POP</td>\n",
       "      <td>2825.304802</td>\n",
       "    </tr>\n",
       "  </tbody>\n",
       "</table>\n",
       "</div>"
      ],
      "text/plain": [
       "  variables          VIF\n",
       "0   GNPDEFL  5209.481637\n",
       "1       GNP   306.539846\n",
       "2     UNEMP    37.738499\n",
       "3     ARMED    39.980260\n",
       "4       POP  2825.304802"
      ]
     },
     "execution_count": 218,
     "metadata": {},
     "output_type": "execute_result"
    }
   ],
   "source": [
    "calc_vif(X.iloc[:, 1:])"
   ]
  },
  {
   "cell_type": "markdown",
   "id": "356b669c",
   "metadata": {},
   "source": [
    "Now that we have a table of VIF values, we will iteratively remove the variable with the highest VIF and recalculate the remaining VIF values, with the goal of getting them as low as possible (ideally <5 as a rule of thumb)."
   ]
  },
  {
   "cell_type": "code",
   "execution_count": 256,
   "id": "4240c291",
   "metadata": {},
   "outputs": [
    {
     "data": {
      "text/html": [
       "<div>\n",
       "<style scoped>\n",
       "    .dataframe tbody tr th:only-of-type {\n",
       "        vertical-align: middle;\n",
       "    }\n",
       "\n",
       "    .dataframe tbody tr th {\n",
       "        vertical-align: top;\n",
       "    }\n",
       "\n",
       "    .dataframe thead th {\n",
       "        text-align: right;\n",
       "    }\n",
       "</style>\n",
       "<table border=\"1\" class=\"dataframe\">\n",
       "  <thead>\n",
       "    <tr style=\"text-align: right;\">\n",
       "      <th></th>\n",
       "      <th>variables</th>\n",
       "      <th>VIF</th>\n",
       "    </tr>\n",
       "  </thead>\n",
       "  <tbody>\n",
       "    <tr>\n",
       "      <th>0</th>\n",
       "      <td>GNP</td>\n",
       "      <td>51.956598</td>\n",
       "    </tr>\n",
       "    <tr>\n",
       "      <th>1</th>\n",
       "      <td>UNEMP</td>\n",
       "      <td>22.075676</td>\n",
       "    </tr>\n",
       "    <tr>\n",
       "      <th>2</th>\n",
       "      <td>ARMED</td>\n",
       "      <td>17.582863</td>\n",
       "    </tr>\n",
       "  </tbody>\n",
       "</table>\n",
       "</div>"
      ],
      "text/plain": [
       "  variables        VIF\n",
       "0       GNP  51.956598\n",
       "1     UNEMP  22.075676\n",
       "2     ARMED  17.582863"
      ]
     },
     "execution_count": 256,
     "metadata": {},
     "output_type": "execute_result"
    }
   ],
   "source": [
    "calc_vif(X[[\"GNP\", \"UNEMP\", \"ARMED\"]])"
   ]
  },
  {
   "cell_type": "code",
   "execution_count": 257,
   "id": "a207a31f",
   "metadata": {},
   "outputs": [
    {
     "data": {
      "text/html": [
       "<div>\n",
       "<style scoped>\n",
       "    .dataframe tbody tr th:only-of-type {\n",
       "        vertical-align: middle;\n",
       "    }\n",
       "\n",
       "    .dataframe tbody tr th {\n",
       "        vertical-align: top;\n",
       "    }\n",
       "\n",
       "    .dataframe thead th {\n",
       "        text-align: right;\n",
       "    }\n",
       "</style>\n",
       "<table border=\"1\" class=\"dataframe\">\n",
       "  <thead>\n",
       "    <tr style=\"text-align: right;\">\n",
       "      <th></th>\n",
       "      <th>GNP</th>\n",
       "      <th>UNEMP</th>\n",
       "      <th>ARMED</th>\n",
       "    </tr>\n",
       "  </thead>\n",
       "  <tbody>\n",
       "    <tr>\n",
       "      <th>GNP</th>\n",
       "      <td>1.000000</td>\n",
       "      <td>0.604261</td>\n",
       "      <td>0.446437</td>\n",
       "    </tr>\n",
       "    <tr>\n",
       "      <th>UNEMP</th>\n",
       "      <td>0.604261</td>\n",
       "      <td>1.000000</td>\n",
       "      <td>-0.177421</td>\n",
       "    </tr>\n",
       "    <tr>\n",
       "      <th>ARMED</th>\n",
       "      <td>0.446437</td>\n",
       "      <td>-0.177421</td>\n",
       "      <td>1.000000</td>\n",
       "    </tr>\n",
       "  </tbody>\n",
       "</table>\n",
       "</div>"
      ],
      "text/plain": [
       "            GNP     UNEMP     ARMED\n",
       "GNP    1.000000  0.604261  0.446437\n",
       "UNEMP  0.604261  1.000000 -0.177421\n",
       "ARMED  0.446437 -0.177421  1.000000"
      ]
     },
     "execution_count": 257,
     "metadata": {},
     "output_type": "execute_result"
    }
   ],
   "source": [
    "X[[\"GNP\", \"UNEMP\", \"ARMED\"]].corr()"
   ]
  },
  {
   "cell_type": "markdown",
   "id": "51f43629",
   "metadata": {},
   "source": [
    "There's still a good amount of multicollinearity going on here, which is not great, and the VIF values are still quite high, but this is good enough to go on."
   ]
  },
  {
   "cell_type": "markdown",
   "id": "ffeb5ed6",
   "metadata": {},
   "source": [
    "Next, we'll refit the linear regression with these terms, and making sure to include that constant value."
   ]
  },
  {
   "cell_type": "code",
   "execution_count": 324,
   "id": "6c8acea7",
   "metadata": {},
   "outputs": [
    {
     "name": "stderr",
     "output_type": "stream",
     "text": [
      "/Users/nelsonta/opt/anaconda3/envs/explore_new/lib/python3.8/site-packages/scipy/stats/stats.py:1603: UserWarning: kurtosistest only valid for n>=20 ... continuing anyway, n=16\n",
      "  warnings.warn(\"kurtosistest only valid for n>=20 ... continuing \"\n"
     ]
    },
    {
     "data": {
      "text/html": [
       "<table class=\"simpletable\">\n",
       "<caption>OLS Regression Results</caption>\n",
       "<tr>\n",
       "  <th>Dep. Variable:</th>         <td>TOTEMP</td>      <th>  R-squared:         </th> <td>   0.985</td>\n",
       "</tr>\n",
       "<tr>\n",
       "  <th>Model:</th>                   <td>OLS</td>       <th>  Adj. R-squared:    </th> <td>   0.981</td>\n",
       "</tr>\n",
       "<tr>\n",
       "  <th>Method:</th>             <td>Least Squares</td>  <th>  F-statistic:       </th> <td>   264.4</td>\n",
       "</tr>\n",
       "<tr>\n",
       "  <th>Date:</th>             <td>Thu, 16 Jun 2022</td> <th>  Prob (F-statistic):</th> <td>3.19e-11</td>\n",
       "</tr>\n",
       "<tr>\n",
       "  <th>Time:</th>                 <td>16:30:37</td>     <th>  Log-Likelihood:    </th> <td> -119.16</td>\n",
       "</tr>\n",
       "<tr>\n",
       "  <th>No. Observations:</th>      <td>    16</td>      <th>  AIC:               </th> <td>   246.3</td>\n",
       "</tr>\n",
       "<tr>\n",
       "  <th>Df Residuals:</th>          <td>    12</td>      <th>  BIC:               </th> <td>   249.4</td>\n",
       "</tr>\n",
       "<tr>\n",
       "  <th>Df Model:</th>              <td>     3</td>      <th>                     </th>     <td> </td>   \n",
       "</tr>\n",
       "<tr>\n",
       "  <th>Covariance Type:</th>      <td>nonrobust</td>    <th>                     </th>     <td> </td>   \n",
       "</tr>\n",
       "</table>\n",
       "<table class=\"simpletable\">\n",
       "<tr>\n",
       "    <td></td>       <th>coef</th>     <th>std err</th>      <th>t</th>      <th>P>|t|</th>  <th>[0.025</th>    <th>0.975]</th>  \n",
       "</tr>\n",
       "<tr>\n",
       "  <th>const</th> <td> 5.331e+04</td> <td>  716.342</td> <td>   74.415</td> <td> 0.000</td> <td> 5.17e+04</td> <td> 5.49e+04</td>\n",
       "</tr>\n",
       "<tr>\n",
       "  <th>GNP</th>   <td>    0.0408</td> <td>    0.002</td> <td>   18.485</td> <td> 0.000</td> <td>    0.036</td> <td>    0.046</td>\n",
       "</tr>\n",
       "<tr>\n",
       "  <th>UNEMP</th> <td>   -0.7968</td> <td>    0.213</td> <td>   -3.734</td> <td> 0.003</td> <td>   -1.262</td> <td>   -0.332</td>\n",
       "</tr>\n",
       "<tr>\n",
       "  <th>ARMED</th> <td>   -0.4828</td> <td>    0.255</td> <td>   -1.892</td> <td> 0.083</td> <td>   -1.039</td> <td>    0.073</td>\n",
       "</tr>\n",
       "</table>\n",
       "<table class=\"simpletable\">\n",
       "<tr>\n",
       "  <th>Omnibus:</th>       <td> 4.210</td> <th>  Durbin-Watson:     </th> <td>   0.904</td>\n",
       "</tr>\n",
       "<tr>\n",
       "  <th>Prob(Omnibus):</th> <td> 0.122</td> <th>  Jarque-Bera (JB):  </th> <td>   1.788</td>\n",
       "</tr>\n",
       "<tr>\n",
       "  <th>Skew:</th>          <td> 0.532</td> <th>  Prob(JB):          </th> <td>   0.409</td>\n",
       "</tr>\n",
       "<tr>\n",
       "  <th>Kurtosis:</th>      <td> 4.245</td> <th>  Cond. No.          </th> <td>2.39e+06</td>\n",
       "</tr>\n",
       "</table><br/><br/>Notes:<br/>[1] Standard Errors assume that the covariance matrix of the errors is correctly specified.<br/>[2] The condition number is large, 2.39e+06. This might indicate that there are<br/>strong multicollinearity or other numerical problems."
      ],
      "text/plain": [
       "<class 'statsmodels.iolib.summary.Summary'>\n",
       "\"\"\"\n",
       "                            OLS Regression Results                            \n",
       "==============================================================================\n",
       "Dep. Variable:                 TOTEMP   R-squared:                       0.985\n",
       "Model:                            OLS   Adj. R-squared:                  0.981\n",
       "Method:                 Least Squares   F-statistic:                     264.4\n",
       "Date:                Thu, 16 Jun 2022   Prob (F-statistic):           3.19e-11\n",
       "Time:                        16:30:37   Log-Likelihood:                -119.16\n",
       "No. Observations:                  16   AIC:                             246.3\n",
       "Df Residuals:                      12   BIC:                             249.4\n",
       "Df Model:                           3                                         \n",
       "Covariance Type:            nonrobust                                         \n",
       "==============================================================================\n",
       "                 coef    std err          t      P>|t|      [0.025      0.975]\n",
       "------------------------------------------------------------------------------\n",
       "const       5.331e+04    716.342     74.415      0.000    5.17e+04    5.49e+04\n",
       "GNP            0.0408      0.002     18.485      0.000       0.036       0.046\n",
       "UNEMP         -0.7968      0.213     -3.734      0.003      -1.262      -0.332\n",
       "ARMED         -0.4828      0.255     -1.892      0.083      -1.039       0.073\n",
       "==============================================================================\n",
       "Omnibus:                        4.210   Durbin-Watson:                   0.904\n",
       "Prob(Omnibus):                  0.122   Jarque-Bera (JB):                1.788\n",
       "Skew:                           0.532   Prob(JB):                        0.409\n",
       "Kurtosis:                       4.245   Cond. No.                     2.39e+06\n",
       "==============================================================================\n",
       "\n",
       "Notes:\n",
       "[1] Standard Errors assume that the covariance matrix of the errors is correctly specified.\n",
       "[2] The condition number is large, 2.39e+06. This might indicate that there are\n",
       "strong multicollinearity or other numerical problems.\n",
       "\"\"\""
      ]
     },
     "execution_count": 324,
     "metadata": {},
     "output_type": "execute_result"
    }
   ],
   "source": [
    "# Fit the limited model\n",
    "mod = sm.OLS(endog=y, exog=X[[\"const\", \"GNP\", \"UNEMP\", \"ARMED\"]])\n",
    "res = mod.fit()\n",
    "res.summary()"
   ]
  },
  {
   "cell_type": "markdown",
   "id": "cbd6b208",
   "metadata": {},
   "source": [
    "So we see that the higher the unemployment rate, the lower the total employment rate, which makes sense. We see here and in our EDA that `GNP` is a valuable predictor. However, I would remove `ARMED` because it includes 0 in its confidence interval, indicating that there is a possibility that the actual coefficent may be 0 and that it has no effect on the outcome. So let's do that:"
   ]
  },
  {
   "cell_type": "code",
   "execution_count": 267,
   "id": "793fd09b",
   "metadata": {},
   "outputs": [
    {
     "name": "stderr",
     "output_type": "stream",
     "text": [
      "/Users/nelsonta/opt/anaconda3/envs/explore_new/lib/python3.8/site-packages/scipy/stats/stats.py:1603: UserWarning: kurtosistest only valid for n>=20 ... continuing anyway, n=16\n",
      "  warnings.warn(\"kurtosistest only valid for n>=20 ... continuing \"\n"
     ]
    },
    {
     "data": {
      "text/html": [
       "<table class=\"simpletable\">\n",
       "<caption>OLS Regression Results</caption>\n",
       "<tr>\n",
       "  <th>Dep. Variable:</th>         <td>TOTEMP</td>      <th>  R-squared:         </th> <td>   0.981</td>\n",
       "</tr>\n",
       "<tr>\n",
       "  <th>Model:</th>                   <td>OLS</td>       <th>  Adj. R-squared:    </th> <td>   0.978</td>\n",
       "</tr>\n",
       "<tr>\n",
       "  <th>Method:</th>             <td>Least Squares</td>  <th>  F-statistic:       </th> <td>   329.5</td>\n",
       "</tr>\n",
       "<tr>\n",
       "  <th>Date:</th>             <td>Thu, 16 Jun 2022</td> <th>  Prob (F-statistic):</th> <td>7.29e-12</td>\n",
       "</tr>\n",
       "<tr>\n",
       "  <th>Time:</th>                 <td>15:57:56</td>     <th>  Log-Likelihood:    </th> <td> -121.25</td>\n",
       "</tr>\n",
       "<tr>\n",
       "  <th>No. Observations:</th>      <td>    16</td>      <th>  AIC:               </th> <td>   248.5</td>\n",
       "</tr>\n",
       "<tr>\n",
       "  <th>Df Residuals:</th>          <td>    13</td>      <th>  BIC:               </th> <td>   250.8</td>\n",
       "</tr>\n",
       "<tr>\n",
       "  <th>Df Model:</th>              <td>     2</td>      <th>                     </th>     <td> </td>   \n",
       "</tr>\n",
       "<tr>\n",
       "  <th>Covariance Type:</th>      <td>nonrobust</td>    <th>                     </th>     <td> </td>   \n",
       "</tr>\n",
       "</table>\n",
       "<table class=\"simpletable\">\n",
       "<tr>\n",
       "    <td></td>       <th>coef</th>     <th>std err</th>      <th>t</th>      <th>P>|t|</th>  <th>[0.025</th>    <th>0.975]</th>  \n",
       "</tr>\n",
       "<tr>\n",
       "  <th>const</th> <td> 5.238e+04</td> <td>  573.550</td> <td>   91.330</td> <td> 0.000</td> <td> 5.11e+04</td> <td> 5.36e+04</td>\n",
       "</tr>\n",
       "<tr>\n",
       "  <th>GNP</th>   <td>    0.0378</td> <td>    0.002</td> <td>   22.120</td> <td> 0.000</td> <td>    0.034</td> <td>    0.042</td>\n",
       "</tr>\n",
       "<tr>\n",
       "  <th>UNEMP</th> <td>   -0.5436</td> <td>    0.182</td> <td>   -2.987</td> <td> 0.010</td> <td>   -0.937</td> <td>   -0.150</td>\n",
       "</tr>\n",
       "</table>\n",
       "<table class=\"simpletable\">\n",
       "<tr>\n",
       "  <th>Omnibus:</th>       <td> 1.922</td> <th>  Durbin-Watson:     </th> <td>   0.976</td>\n",
       "</tr>\n",
       "<tr>\n",
       "  <th>Prob(Omnibus):</th> <td> 0.382</td> <th>  Jarque-Bera (JB):  </th> <td>   0.677</td>\n",
       "</tr>\n",
       "<tr>\n",
       "  <th>Skew:</th>          <td> 0.483</td> <th>  Prob(JB):          </th> <td>   0.713</td>\n",
       "</tr>\n",
       "<tr>\n",
       "  <th>Kurtosis:</th>      <td> 3.288</td> <th>  Cond. No.          </th> <td>1.75e+06</td>\n",
       "</tr>\n",
       "</table><br/><br/>Notes:<br/>[1] Standard Errors assume that the covariance matrix of the errors is correctly specified.<br/>[2] The condition number is large, 1.75e+06. This might indicate that there are<br/>strong multicollinearity or other numerical problems."
      ],
      "text/plain": [
       "<class 'statsmodels.iolib.summary.Summary'>\n",
       "\"\"\"\n",
       "                            OLS Regression Results                            \n",
       "==============================================================================\n",
       "Dep. Variable:                 TOTEMP   R-squared:                       0.981\n",
       "Model:                            OLS   Adj. R-squared:                  0.978\n",
       "Method:                 Least Squares   F-statistic:                     329.5\n",
       "Date:                Thu, 16 Jun 2022   Prob (F-statistic):           7.29e-12\n",
       "Time:                        15:57:56   Log-Likelihood:                -121.25\n",
       "No. Observations:                  16   AIC:                             248.5\n",
       "Df Residuals:                      13   BIC:                             250.8\n",
       "Df Model:                           2                                         \n",
       "Covariance Type:            nonrobust                                         \n",
       "==============================================================================\n",
       "                 coef    std err          t      P>|t|      [0.025      0.975]\n",
       "------------------------------------------------------------------------------\n",
       "const       5.238e+04    573.550     91.330      0.000    5.11e+04    5.36e+04\n",
       "GNP            0.0378      0.002     22.120      0.000       0.034       0.042\n",
       "UNEMP         -0.5436      0.182     -2.987      0.010      -0.937      -0.150\n",
       "==============================================================================\n",
       "Omnibus:                        1.922   Durbin-Watson:                   0.976\n",
       "Prob(Omnibus):                  0.382   Jarque-Bera (JB):                0.677\n",
       "Skew:                           0.483   Prob(JB):                        0.713\n",
       "Kurtosis:                       3.288   Cond. No.                     1.75e+06\n",
       "==============================================================================\n",
       "\n",
       "Notes:\n",
       "[1] Standard Errors assume that the covariance matrix of the errors is correctly specified.\n",
       "[2] The condition number is large, 1.75e+06. This might indicate that there are\n",
       "strong multicollinearity or other numerical problems.\n",
       "\"\"\""
      ]
     },
     "execution_count": 267,
     "metadata": {},
     "output_type": "execute_result"
    }
   ],
   "source": [
    "# Refit the model without `ARMED`\n",
    "mod = sm.OLS(endog=y, exog=X[[\"const\", \"GNP\", \"UNEMP\"]])\n",
    "res = mod.fit()\n",
    "res.summary()"
   ]
  },
  {
   "cell_type": "markdown",
   "id": "5cb6e01b",
   "metadata": {},
   "source": [
    "And here we have a good model, though to make it even better we *could* remove `UNEMP` and just do a model with `GNP` and still get a very good model. Determining when to add/subtract terms can be subjective, there are instances in which you would *still* want to keep some terms. "
   ]
  },
  {
   "cell_type": "markdown",
   "id": "b17a7752",
   "metadata": {},
   "source": [
    "# AutoRegression (AR)\n",
    "\n",
    "* [Autoregression Documentation in Statsmodels](https://www.statsmodels.org/devel/generated/statsmodels.tsa.ar_model.AutoReg.html#statsmodels.tsa.ar_model.AutoReg)\n",
    "* An introduction to AR: [Forecasting: Principles and Practice - Autoregressive models](https://otexts.com/fpp3/AR.html)\n",
    "\n",
    "Next we'll cover *autoregression*, in which we look purely at a single column in our data and try to calculate how well past values relate to future values. "
   ]
  },
  {
   "cell_type": "code",
   "execution_count": 87,
   "id": "da1b64b6",
   "metadata": {},
   "outputs": [],
   "source": [
    "from statsmodels.tsa.ar_model import AutoReg"
   ]
  },
  {
   "cell_type": "code",
   "execution_count": 268,
   "id": "93eab4f6",
   "metadata": {},
   "outputs": [
    {
     "data": {
      "text/plain": [
       "<AxesSubplot:xlabel='YEAR'>"
      ]
     },
     "execution_count": 268,
     "metadata": {},
     "output_type": "execute_result"
    },
    {
     "data": {
      "image/png": "[encoded data removed]",
      "text/plain": [
       "<Figure size 432x288 with 1 Axes>"
      ]
     },
     "metadata": {},
     "output_type": "display_data"
    }
   ],
   "source": [
    "df.plot(x=\"YEAR\", y=\"TOTEMP\")"
   ]
  },
  {
   "cell_type": "code",
   "execution_count": 283,
   "id": "437b47f7",
   "metadata": {},
   "outputs": [],
   "source": [
    "res = AutoReg(df[\"TOTEMP\"], lags = [1,2,3]).fit()"
   ]
  },
  {
   "cell_type": "code",
   "execution_count": 284,
   "id": "d5dca91e",
   "metadata": {},
   "outputs": [
    {
     "data": {
      "text/html": [
       "<table class=\"simpletable\">\n",
       "<caption>AutoReg Model Results</caption>\n",
       "<tr>\n",
       "  <th>Dep. Variable:</th>      <td>TOTEMP</td>      <th>  No. Observations:  </th>    <td>16</td>   \n",
       "</tr>\n",
       "<tr>\n",
       "  <th>Model:</th>            <td>AutoReg(3)</td>    <th>  Log Likelihood     </th> <td>-107.336</td>\n",
       "</tr>\n",
       "<tr>\n",
       "  <th>Method:</th>         <td>Conditional MLE</td> <th>  S.D. of innovations</th>  <td>932.311</td>\n",
       "</tr>\n",
       "<tr>\n",
       "  <th>Date:</th>          <td>Thu, 16 Jun 2022</td> <th>  AIC                </th>  <td>224.672</td>\n",
       "</tr>\n",
       "<tr>\n",
       "  <th>Time:</th>              <td>16:01:32</td>     <th>  BIC                </th>  <td>227.496</td>\n",
       "</tr>\n",
       "<tr>\n",
       "  <th>Sample:</th>                <td>3</td>        <th>  HQIC               </th>  <td>224.091</td>\n",
       "</tr>\n",
       "<tr>\n",
       "  <th></th>                      <td>16</td>        <th>                     </th>     <td> </td>   \n",
       "</tr>\n",
       "</table>\n",
       "<table class=\"simpletable\">\n",
       "<tr>\n",
       "      <td></td>         <th>coef</th>     <th>std err</th>      <th>z</th>      <th>P>|z|</th>  <th>[0.025</th>    <th>0.975]</th>  \n",
       "</tr>\n",
       "<tr>\n",
       "  <th>const</th>     <td> 6560.1776</td> <td> 5937.908</td> <td>    1.105</td> <td> 0.269</td> <td>-5077.909</td> <td> 1.82e+04</td>\n",
       "</tr>\n",
       "<tr>\n",
       "  <th>TOTEMP.L1</th> <td>    0.5232</td> <td>    0.215</td> <td>    2.436</td> <td> 0.015</td> <td>    0.102</td> <td>    0.944</td>\n",
       "</tr>\n",
       "<tr>\n",
       "  <th>TOTEMP.L2</th> <td>   -0.0685</td> <td>    0.254</td> <td>   -0.269</td> <td> 0.788</td> <td>   -0.567</td> <td>    0.430</td>\n",
       "</tr>\n",
       "<tr>\n",
       "  <th>TOTEMP.L3</th> <td>    0.4664</td> <td>    0.221</td> <td>    2.107</td> <td> 0.035</td> <td>    0.033</td> <td>    0.900</td>\n",
       "</tr>\n",
       "</table>\n",
       "<table class=\"simpletable\">\n",
       "<caption>Roots</caption>\n",
       "<tr>\n",
       "    <td></td>   <th>            Real</th>  <th>         Imaginary</th> <th>         Modulus</th>  <th>        Frequency</th>\n",
       "</tr>\n",
       "<tr>\n",
       "  <th>AR.1</th> <td>           1.0428</td> <td>          -0.0000j</td> <td>           1.0428</td> <td>          -0.0000</td>\n",
       "</tr>\n",
       "<tr>\n",
       "  <th>AR.2</th> <td>          -0.4479</td> <td>          -1.3621j</td> <td>           1.4339</td> <td>          -0.3006</td>\n",
       "</tr>\n",
       "<tr>\n",
       "  <th>AR.3</th> <td>          -0.4479</td> <td>          +1.3621j</td> <td>           1.4339</td> <td>           0.3006</td>\n",
       "</tr>\n",
       "</table>"
      ],
      "text/plain": [
       "<class 'statsmodels.iolib.summary.Summary'>\n",
       "\"\"\"\n",
       "                            AutoReg Model Results                             \n",
       "==============================================================================\n",
       "Dep. Variable:                 TOTEMP   No. Observations:                   16\n",
       "Model:                     AutoReg(3)   Log Likelihood                -107.336\n",
       "Method:               Conditional MLE   S.D. of innovations            932.311\n",
       "Date:                Thu, 16 Jun 2022   AIC                            224.672\n",
       "Time:                        16:01:32   BIC                            227.496\n",
       "Sample:                             3   HQIC                           224.091\n",
       "                                   16                                         \n",
       "==============================================================================\n",
       "                 coef    std err          z      P>|z|      [0.025      0.975]\n",
       "------------------------------------------------------------------------------\n",
       "const       6560.1776   5937.908      1.105      0.269   -5077.909    1.82e+04\n",
       "TOTEMP.L1      0.5232      0.215      2.436      0.015       0.102       0.944\n",
       "TOTEMP.L2     -0.0685      0.254     -0.269      0.788      -0.567       0.430\n",
       "TOTEMP.L3      0.4664      0.221      2.107      0.035       0.033       0.900\n",
       "                                    Roots                                    \n",
       "=============================================================================\n",
       "                  Real          Imaginary           Modulus         Frequency\n",
       "-----------------------------------------------------------------------------\n",
       "AR.1            1.0428           -0.0000j            1.0428           -0.0000\n",
       "AR.2           -0.4479           -1.3621j            1.4339           -0.3006\n",
       "AR.3           -0.4479           +1.3621j            1.4339            0.3006\n",
       "-----------------------------------------------------------------------------\n",
       "\"\"\""
      ]
     },
     "execution_count": 284,
     "metadata": {},
     "output_type": "execute_result"
    }
   ],
   "source": [
    "res.summary()"
   ]
  },
  {
   "cell_type": "markdown",
   "id": "5213d681",
   "metadata": {},
   "source": [
    "# Vector AutoRegression (VAR)\n",
    "\n",
    "Demonstrate [vector autoregression](https://www.statsmodels.org/devel/vector_ar.html#var-p-processes) with `Statsmodels`. See [Forecasting: Principles and Practice](https://otexts.com/fpp3/VAR.html) for an introduction to VAR."
   ]
  },
  {
   "cell_type": "code",
   "execution_count": 191,
   "id": "4af84d01",
   "metadata": {},
   "outputs": [],
   "source": [
    "from statsmodels.tsa.api import VAR"
   ]
  },
  {
   "cell_type": "markdown",
   "id": "f925cf26",
   "metadata": {},
   "source": [
    "For vector autoregression, instead of having a matrix of X values and a y variable, we are going to measure cross-correlations at various lags. "
   ]
  },
  {
   "cell_type": "code",
   "execution_count": 311,
   "id": "aec0a387",
   "metadata": {},
   "outputs": [],
   "source": [
    "var_data = df[[\"TOTEMP\", \"GNP\", \"UNEMP\"]]"
   ]
  },
  {
   "cell_type": "markdown",
   "id": "bb60931e",
   "metadata": {},
   "source": [
    "Next, we call the model fit with `statsmodels` and display the results, similar to what we have done with AR and linear regression before."
   ]
  },
  {
   "cell_type": "code",
   "execution_count": 320,
   "id": "898f04d7",
   "metadata": {},
   "outputs": [
    {
     "data": {
      "text/plain": [
       "  Summary of Regression Results   \n",
       "==================================\n",
       "Model:                         VAR\n",
       "Method:                        OLS\n",
       "Date:           Thu, 16, Jun, 2022\n",
       "Time:                     16:17:29\n",
       "--------------------------------------------------------------------\n",
       "No. of Equations:         3.00000    BIC:                    42.6084\n",
       "Nobs:                     15.0000    HQIC:                   42.0359\n",
       "Log likelihood:          -367.167    FPE:                1.88710e+18\n",
       "AIC:                      42.0419    Det(Omega_mle):     9.28555e+17\n",
       "--------------------------------------------------------------------\n",
       "Results for equation TOTEMP\n",
       "============================================================================\n",
       "               coefficient       std. error           t-stat            prob\n",
       "----------------------------------------------------------------------------\n",
       "const         54734.286558     30460.800717            1.797           0.072\n",
       "L1.TOTEMP        -0.050599         0.584557           -0.087           0.931\n",
       "L1.GNP            0.035032         0.023026            1.521           0.128\n",
       "L1.UNEMP          0.322225         0.480092            0.671           0.502\n",
       "============================================================================\n",
       "\n",
       "Results for equation GNP\n",
       "============================================================================\n",
       "               coefficient       std. error           t-stat            prob\n",
       "----------------------------------------------------------------------------\n",
       "const        296126.578882    317727.675362            0.932           0.351\n",
       "L1.TOTEMP        -5.569665         6.097341           -0.913           0.361\n",
       "L1.GNP            1.147184         0.240175            4.776           0.000\n",
       "L1.UNEMP         10.090576         5.007698            2.015           0.044\n",
       "============================================================================\n",
       "\n",
       "Results for equation UNEMP\n",
       "============================================================================\n",
       "               coefficient       std. error           t-stat            prob\n",
       "----------------------------------------------------------------------------\n",
       "const        -32148.525865     21766.099180           -1.477           0.140\n",
       "L1.TOTEMP         0.629027         0.417702            1.506           0.132\n",
       "L1.GNP           -0.019335         0.016453           -1.175           0.240\n",
       "L1.UNEMP          0.577158         0.343055            1.682           0.092\n",
       "============================================================================\n",
       "\n",
       "Correlation matrix of residuals\n",
       "            TOTEMP       GNP     UNEMP\n",
       "TOTEMP    1.000000  0.859509 -0.887491\n",
       "GNP       0.859509  1.000000 -0.963189\n",
       "UNEMP    -0.887491 -0.963189  1.000000\n",
       "\n"
      ]
     },
     "execution_count": 320,
     "metadata": {},
     "output_type": "execute_result"
    }
   ],
   "source": [
    "var_model = VAR(var_data)\n",
    "res = var_model.fit(1) # VAR(1) model, i.e. fit up to 2 lags\n",
    "res.summary()"
   ]
  },
  {
   "cell_type": "markdown",
   "id": "2b2be8bf",
   "metadata": {},
   "source": [
    "We see that the results for equation `TOTEMP` and `UNEMP` are not so good, it appears that the lag-1 data are poor predictors. However, the results for equation `GNP` are more promising, as `L1.GNP` is a good predictor for `GNP`.\n",
    "\n",
    "So if we wanted to build a predictive model, there is some hope here because we have a reasonable model for `GNP` 1 year in the future, and we can then use that to create a prediction for what `TOTEMP` would be. "
   ]
  },
  {
   "cell_type": "markdown",
   "id": "0ec99ef2",
   "metadata": {},
   "source": [
    "## Reference:\n",
    "\n",
    "* [Statsmodels official documentation site](https://www.statsmodels.org/stable/index.html)\n",
    "* [Regression and Linear Models - Statsmodels](https://www.statsmodels.org/devel/user-guide.html#regression-and-linear-models)\n",
    "* [AutoRegression in Statsmodels](https://www.statsmodels.org/devel/generated/statsmodels.tsa.ar_model.AutoReg.html#statsmodels.tsa.ar_model.AutoReg)\n",
    "* [Forecasting: Principles and Practice - Autoregressive models](https://otexts.com/fpp3/AR.html)\n",
    "* [Vector Autoregression - Statsmodels](https://www.statsmodels.org/devel/vector_ar.html#var-p-processes)\n",
    "* [What is multicollinearity? - Analytics Vidya](https://www.analyticsvidhya.com/blog/2020/03/what-is-multicollinearity/#:~:text=Multicollinearity%20occurs%20when%20two%20or,variable%20in%20a%20regression%20model.)\n",
    "* [Forecasting: Principles and Practice - VAR](https://otexts.com/fpp3/VAR.html)"
   ]
  },
  {
   "cell_type": "code",
   "execution_count": null,
   "id": "3caf2ba9",
   "metadata": {},
   "outputs": [],
   "source": []
  }
 ],
 "metadata": {
  "kernelspec": {
   "display_name": "explore-new",
   "language": "python",
   "name": "explore-new"
  },
  "language_info": {
   "codemirror_mode": {
    "name": "ipython",
    "version": 3
   },
   "file_extension": ".py",
   "mimetype": "text/x-python",
   "name": "python",
   "nbconvert_exporter": "python",
   "pygments_lexer": "ipython3",
   "version": "3.8.13"
  }
 },
 "nbformat": 4,
 "nbformat_minor": 5
}
