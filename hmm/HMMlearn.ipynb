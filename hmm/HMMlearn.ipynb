{
 "cells": [
  {
   "cell_type": "markdown",
   "id": "a8bd2949-1fd0-4fda-ae6c-48b79d9907ec",
   "metadata": {},
   "source": [
    "## HMMLearn in Python\n",
    "\n",
    "* [HMMlearn Docs](https://hmmlearn.readthedocs.io/en/latest/)\n",
    "\n",
    "Once you understand the basic ideas of Markov Chains, what can you do with it? Hidden Markov Models are fascinating in that it supposes that you have some data and the data comes from some underlying state that is unobserved (hidden) from you.\n",
    "\n",
    "Another way of thinking of Hidden Markov Models are that they are a form of unsupervised learning for time series analysis. Given the data and a number of hidden states and assumptions into the underlying distribution, you can use libraries like python's `hmmlearn` to try to uncover the hidden states."
   ]
  },
  {
   "cell_type": "code",
   "execution_count": 1,
   "id": "de3c5507-c837-480c-b9d7-7ddaf33da0a9",
   "metadata": {},
   "outputs": [],
   "source": [
    "from hmmlearn import hmm\n",
    "import matplotlib.pyplot as plt\n",
    "import numpy as np\n",
    "\n",
    "np.random.seed(42)"
   ]
  },
  {
   "cell_type": "markdown",
   "id": "c9f7c956-e3b2-4638-afd2-0e611021b9a1",
   "metadata": {},
   "source": [
    "## A trivial example\n",
    "\n",
    "We'll start with the simplest example in which we have data that comes from two different gaussian processes. "
   ]
  },
  {
   "cell_type": "code",
   "execution_count": 2,
   "id": "cb758e45-5ec5-4bea-9096-20d02b15a5e3",
   "metadata": {},
   "outputs": [
    {
     "data": {
      "image/png": "[encoded data removed]",
      "text/plain": [
       "<Figure size 432x288 with 1 Axes>"
      ]
     },
     "metadata": {
      "needs_background": "light"
     },
     "output_type": "display_data"
    }
   ],
   "source": [
    "# randomly generate two series:\n",
    "series1 = np.random.normal(0.02, 0.5, size=10)\n",
    "series2 = np.random.normal(2, 1, size=20)\n",
    "\n",
    "X = np.hstack([series1, series2]).reshape(-1,1) # must be a column vector\n",
    "Z_true = np.hstack([np.zeros(10), np.ones(20)])\n",
    "\n",
    "fig, ax = plt.subplots()\n",
    "ax.plot(X, label=\"Data\")\n",
    "ax.plot(Z_true, label=\"Hidden State\")\n",
    "ax.legend()\n",
    "plt.show()"
   ]
  },
  {
   "cell_type": "markdown",
   "id": "676700c3-d29c-4e5a-a0a2-f642b2d02f56",
   "metadata": {},
   "source": [
    "The above code creates data where there is a clear transition from one state to another at the 10th point. We know this to be true because we made it up!"
   ]
  },
  {
   "cell_type": "markdown",
   "id": "bef52fce-d3d4-4d0b-8141-99ba1cd76d4b",
   "metadata": {},
   "source": [
    "With this simple model, can we use a hidden markov model to detect the underlying state?\n",
    "\n",
    "The `hmmlearn` library employs a similar syntax to `sklearn`, so you follow the familiar steps to instantiate a model, fit it on data with `.fit`, and predict with `.predict`:"
   ]
  },
  {
   "cell_type": "code",
   "execution_count": 3,
   "id": "0b1cbd4e-5615-4f6a-b249-7a2209ae5881",
   "metadata": {},
   "outputs": [
    {
     "data": {
      "text/plain": [
       "-30.70522845012973"
      ]
     },
     "execution_count": 3,
     "metadata": {},
     "output_type": "execute_result"
    }
   ],
   "source": [
    "# Instantitate the model class \n",
    "model = hmm.GaussianHMM(n_components=2)\n",
    "# Fit and predict\n",
    "model.fit(X)\n",
    "Z = model.predict(X)\n",
    "model.score(X)"
   ]
  },
  {
   "cell_type": "markdown",
   "id": "e33a887e-2cd0-4f1b-81f6-a2d034b7a58e",
   "metadata": {},
   "source": [
    "How well did this simple model perform? Since there are two underlying states (0 and 1) we can check the forecast accuracy as follows:"
   ]
  },
  {
   "cell_type": "code",
   "execution_count": 4,
   "id": "ce5ca25e-7761-429c-afbb-7564ed153c6c",
   "metadata": {},
   "outputs": [
    {
     "data": {
      "text/plain": [
       "1.0"
      ]
     },
     "execution_count": 4,
     "metadata": {},
     "output_type": "execute_result"
    }
   ],
   "source": [
    "np.mean(Z == Z_true)"
   ]
  },
  {
   "cell_type": "markdown",
   "id": "42d9ce4f-17da-4f36-b276-50301790594e",
   "metadata": {},
   "source": [
    "And lo and behold, it got a perfect result on this simplest of models. We can even get estimates of the means and covariance:"
   ]
  },
  {
   "cell_type": "code",
   "execution_count": 5,
   "id": "fe8487f0-1967-4be3-8535-ccdfb87babff",
   "metadata": {},
   "outputs": [
    {
     "data": {
      "text/plain": [
       "array([[0.23953139],\n",
       "       [1.54676947]])"
      ]
     },
     "execution_count": 5,
     "metadata": {},
     "output_type": "execute_result"
    }
   ],
   "source": [
    "model.means_"
   ]
  },
  {
   "cell_type": "code",
   "execution_count": 6,
   "id": "31b26472-1f22-444c-a58c-ed286a6235a6",
   "metadata": {},
   "outputs": [
    {
     "data": {
      "text/plain": [
       "array([[[0.11124402]],\n",
       "\n",
       "       [[0.58902567]]])"
      ]
     },
     "execution_count": 6,
     "metadata": {},
     "output_type": "execute_result"
    }
   ],
   "source": [
    "model.covars_"
   ]
  },
  {
   "cell_type": "markdown",
   "id": "9dfa5b80-3b5c-4bfc-a415-dd34d20dc634",
   "metadata": {},
   "source": [
    "Given the assumption that the underlying processes are Gaussian, we see that the means and variances are off from the true values, but it was correctly able to tell that the second state had a higher mean and higher variance than the other."
   ]
  },
  {
   "cell_type": "markdown",
   "id": "ff3f25fb-3580-4bb1-9985-d0b07f3ac7c6",
   "metadata": {},
   "source": [
    "## Basic Usage"
   ]
  },
  {
   "cell_type": "markdown",
   "id": "1374151e-40f8-4aa1-9d3f-050c42ec6aaf",
   "metadata": {},
   "source": [
    "`hmmlearn` can also *instantiate* data, useful for learning and perhaps doing some prior predictive checks.\n",
    "\n",
    "Here we instantiate a Gaussian HMM with 2 states:"
   ]
  },
  {
   "cell_type": "code",
   "execution_count": 7,
   "id": "135f14cc-1cde-4359-9abc-ec9a1d34d97e",
   "metadata": {},
   "outputs": [],
   "source": [
    "model = hmm.GaussianHMM(n_components=2, covariance_type=\"full\")\n",
    "model.startprob_ = np.array([0.5, 0.5])\n",
    "model.transmat_ = np.array([[0.7, 0.3],\n",
    "                            [0.2, 0.8]])\n",
    "model.means_ = np.array([[0.2, 0.7], [0.02, -0.03]])\n",
    "model.covars_ = np.tile(np.identity(2), (2, 1, 1))\n",
    "X, Z = model.sample(100)"
   ]
  },
  {
   "cell_type": "markdown",
   "id": "d0dc7880-9f9e-48c8-a4da-f10f280a4a8f",
   "metadata": {},
   "source": [
    "Note that the $X$ array is now 2-dimensional."
   ]
  },
  {
   "cell_type": "code",
   "execution_count": 8,
   "id": "4cbfbcbd-b7bf-45de-aae6-5f015508beca",
   "metadata": {},
   "outputs": [
    {
     "data": {
      "text/plain": [
       "Text(0.5, 0, 'X_2')"
      ]
     },
     "execution_count": 8,
     "metadata": {},
     "output_type": "execute_result"
    },
    {
     "data": {
      "image/png": "[encoded data removed]",
      "text/plain": [
       "<Figure size 432x288 with 2 Axes>"
      ]
     },
     "metadata": {
      "needs_background": "light"
     },
     "output_type": "display_data"
    }
   ],
   "source": [
    "fig, ax = plt.subplots(1,2)\n",
    "ax[0].scatter(X[:,0], Z)\n",
    "ax[0].set_ylabel(\"Z\")\n",
    "ax[0].set_xlabel(\"X_1\")\n",
    "ax[1].scatter(X[:,1], Z)\n",
    "ax[1].set_xlabel(\"X_2\")"
   ]
  },
  {
   "cell_type": "code",
   "execution_count": 9,
   "id": "019c46de-dd29-4415-95d5-6e4f0b311578",
   "metadata": {},
   "outputs": [],
   "source": [
    "remodel = hmm.GaussianHMM(n_components=2, covariance_type=\"full\", n_iter=100)\n",
    "remodel.fit(X)\n",
    "Z2 = remodel.predict(X)"
   ]
  },
  {
   "cell_type": "markdown",
   "id": "5deed736-91f7-4525-b08c-6ec91a863282",
   "metadata": {},
   "source": [
    "The parameters of the HMM process are estimated with the Baum Welch algorithm and estimate of the underlying states are found with the Viterbi algorithm.\n",
    "\n",
    "* Baum Welch: [Wikipedia](https://en.wikipedia.org/wiki/Baum%E2%80%93Welch_algorithm)\n",
    "* Viterbi: [Wikipedia](https://en.wikipedia.org/wiki/Viterbi_algorithm)\n",
    "\n",
    "We can check convergence on the model with the `.monitor_` and `.monitor_.converged` attributes after fitting:"
   ]
  },
  {
   "cell_type": "code",
   "execution_count": 10,
   "id": "293c2297-1f24-4c42-b919-63ae7fb7213b",
   "metadata": {},
   "outputs": [
    {
     "data": {
      "text/plain": [
       "ConvergenceMonitor(\n",
       "    history=[-289.2975186516425, -281.49902894521415, -280.92921607423574, -280.6714699494103, -280.5221816422183, -280.4260709155556, -280.3598654223045, -280.3123248447629, -280.2771195955079, -280.2501946532629, -280.22878143421747, -280.21094981786945, -280.1953475849395, -280.1810227223016, -280.1672945019778, -280.15365810244435, -280.13971273859914, -280.125104953536, -280.10947917705096, -280.09242690298066, -280.0734229398671, -280.05172993677706, -280.0262356657242, -279.99514901500004, -279.9553899040767, -279.9012930730397, -279.8217717066677, -279.69443661177195, -279.4772384509725, -279.1174737130147, -278.6278489193005, -278.1432155376244, -277.77455440852236, -277.5189801100523, -277.33203650902885, -277.1825019063792, -277.0576096132107, -276.95380610503946, -276.86992722383945, -276.8043830672066, -276.7546851184474, -276.7178764730909, -276.69105805585275, -276.67171654064316, -276.6578411180106, -276.64790566608065],\n",
       "    iter=46,\n",
       "    n_iter=100,\n",
       "    tol=0.01,\n",
       "    verbose=False,\n",
       ")"
      ]
     },
     "execution_count": 10,
     "metadata": {},
     "output_type": "execute_result"
    }
   ],
   "source": [
    "remodel.monitor_"
   ]
  },
  {
   "cell_type": "code",
   "execution_count": 11,
   "id": "8ed35199-2d76-4e1f-893d-34ce0873768f",
   "metadata": {},
   "outputs": [
    {
     "data": {
      "text/plain": [
       "True"
      ]
     },
     "execution_count": 11,
     "metadata": {},
     "output_type": "execute_result"
    }
   ],
   "source": [
    "remodel.monitor_.converged"
   ]
  },
  {
   "cell_type": "markdown",
   "id": "1a9e4c67-11cb-4815-bc82-4fd3947baf9e",
   "metadata": {},
   "source": [
    "Then - how well does it predict the underlying state?"
   ]
  },
  {
   "cell_type": "code",
   "execution_count": 12,
   "id": "32cdc4c9-a52f-4ce9-94c9-d9355e2b0279",
   "metadata": {},
   "outputs": [
    {
     "data": {
      "text/plain": [
       "0.24"
      ]
     },
     "execution_count": 12,
     "metadata": {},
     "output_type": "execute_result"
    }
   ],
   "source": [
    "# Accuracy\n",
    "sum(Z2 == Z)/len(Z)"
   ]
  },
  {
   "cell_type": "code",
   "execution_count": 13,
   "id": "2d8fa69a-0987-4dcb-818c-f133f3a4c8d9",
   "metadata": {},
   "outputs": [
    {
     "data": {
      "text/plain": [
       "-276.6407901301886"
      ]
     },
     "execution_count": 13,
     "metadata": {},
     "output_type": "execute_result"
    }
   ],
   "source": [
    "remodel.score(X)"
   ]
  },
  {
   "cell_type": "markdown",
   "id": "f7a8d875-0885-4706-926b-b90743bbb42d",
   "metadata": {},
   "source": [
    "## Dishonest Casino Example\n",
    "\n",
    "We’ll use the ubiquitous dishonest casino example to demonstrate how to train a Hidden Markov Model (HMM) on somewhat realistic test data (e.g. http://www.mcb111.org/w06/durbin_book.pdf Chapter 3).\n",
    "\n",
    "In this example, we suspect that a casino is trading out a fair die (singular or dice) for a loaded die. We want to figure out 1) when the loaded die was used (i.e. the most likely path) 2) how often the loaded die is used (i.e. the transition probabilities) and 3) the probabilities for each outcome of a roll for the loaded die (i.e. the emission probabilities).\n",
    "\n",
    "Now, let’s act as the casino and exchange a fair die for a loaded one and generate a series of rolls that someone at the casino would observe."
   ]
  },
  {
   "cell_type": "code",
   "execution_count": 14,
   "id": "ebec6630-b1fd-4df9-812c-24523eb23b3f",
   "metadata": {},
   "outputs": [
    {
     "name": "stderr",
     "output_type": "stream",
     "text": [
      "/var/folders/5p/b6cx3vmd09ncxtl64chdxsh40000gq/T/ipykernel_6367/2820131750.py:33: UserWarning: Matplotlib is currently using module://matplotlib_inline.backend_inline, which is a non-GUI backend, so cannot show the figure.\n",
      "  fig.show()\n",
      "/var/folders/5p/b6cx3vmd09ncxtl64chdxsh40000gq/T/ipykernel_6367/2820131750.py:45: UserWarning: Matplotlib is currently using module://matplotlib_inline.backend_inline, which is a non-GUI backend, so cannot show the figure.\n",
      "  fig.show()\n"
     ]
    },
    {
     "data": {
      "image/png": "[encoded data removed]",
      "text/plain": [
       "<Figure size 432x288 with 1 Axes>"
      ]
     },
     "metadata": {
      "needs_background": "light"
     },
     "output_type": "display_data"
    },
    {
     "data": {
      "image/png": "[encoded data removed]",
      "text/plain": [
       "<Figure size 432x288 with 1 Axes>"
      ]
     },
     "metadata": {
      "needs_background": "light"
     },
     "output_type": "display_data"
    }
   ],
   "source": [
    "# make our generative model with two components, a fair die and a\n",
    "# loaded die\n",
    "gen_model = hmm.MultinomialHMM(n_components=2, random_state=99)\n",
    "\n",
    "# the first state is the fair die so let's start there so no one\n",
    "# catches on right away\n",
    "gen_model.startprob_ = np.array([1.0, 0.0])\n",
    "\n",
    "# now let's say that we sneak the loaded die in:\n",
    "# here, we have a 95% chance to continue using the fair die and a 5%\n",
    "# chance to switch to the loaded die\n",
    "# when we enter the loaded die state, we have a 90% chance of staying\n",
    "# in that state and a 10% chance of leaving\n",
    "gen_model.transmat_ = np.array([[0.95, 0.05],\n",
    "                                [0.1, 0.9]])\n",
    "\n",
    "# now let's set the emission means:\n",
    "# the first state is a fair die with equal probabilities and the\n",
    "# second is loaded by being biased toward rolling a six\n",
    "gen_model.emissionprob_ = \\\n",
    "    np.array([[1 / 6, 1 / 6, 1 / 6, 1 / 6, 1 / 6, 1 / 6],\n",
    "              [1 / 10, 1 / 10, 1 / 10, 1 / 10, 1 / 10, 1 / 2]])\n",
    "\n",
    "# simulate the loaded dice rolls\n",
    "rolls, gen_states = gen_model.sample(30000)\n",
    "\n",
    "# plot states over time, let's just look at the first rolls for clarity\n",
    "fig, ax = plt.subplots()\n",
    "ax.plot(gen_states[:500])\n",
    "ax.set_title('States over time')\n",
    "ax.set_xlabel('Time (# of rolls)')\n",
    "ax.set_ylabel('State')\n",
    "fig.show()\n",
    "\n",
    "# plot rolls for the fair and loaded states\n",
    "fig, ax = plt.subplots()\n",
    "ax.hist(rolls[gen_states == 0], label='fair', alpha=0.5,\n",
    "        bins=np.arange(7) - 0.5, density=True)\n",
    "ax.hist(rolls[gen_states == 1], label='loaded', alpha=0.5,\n",
    "        bins=np.arange(7) - 0.5, density=True)\n",
    "ax.set_title('Roll probabilities by state')\n",
    "ax.set_xlabel('Count')\n",
    "ax.set_ylabel('Roll')\n",
    "ax.legend()\n",
    "fig.show()"
   ]
  },
  {
   "cell_type": "code",
   "execution_count": 15,
   "id": "f9d8ebc6-548b-44ed-99fe-19480a47d83e",
   "metadata": {},
   "outputs": [
    {
     "name": "stdout",
     "output_type": "stream",
     "text": [
      "Generated score: -26230.575868403906\n",
      "Best score:      -26229.219361702373\n"
     ]
    },
    {
     "name": "stderr",
     "output_type": "stream",
     "text": [
      "/var/folders/5p/b6cx3vmd09ncxtl64chdxsh40000gq/T/ipykernel_6367/2862093247.py:45: UserWarning: Matplotlib is currently using module://matplotlib_inline.backend_inline, which is a non-GUI backend, so cannot show the figure.\n",
      "  fig.show()\n"
     ]
    },
    {
     "data": {
      "image/png": "[encoded data removed]",
      "text/plain": [
       "<Figure size 432x288 with 1 Axes>"
      ]
     },
     "metadata": {
      "needs_background": "light"
     },
     "output_type": "display_data"
    }
   ],
   "source": [
    "# split our data into training and validation sets (50/50 split)\n",
    "X_train = rolls[:rolls.shape[0] // 2]\n",
    "X_validate = rolls[rolls.shape[0] // 2:]\n",
    "\n",
    "# check optimal score\n",
    "gen_score = gen_model.score(X_validate)\n",
    "\n",
    "best_score = best_model = None\n",
    "n_fits = 50\n",
    "np.random.seed(13)\n",
    "for idx in range(n_fits):\n",
    "    model = hmm.MultinomialHMM(\n",
    "        n_components=2, random_state=idx,\n",
    "        init_params='se')  # don't init transition, set it below\n",
    "    # we need to initialize with random transition matrix probabilities\n",
    "    # because the default is an even likelihood transition\n",
    "    # we know transitions are rare (otherwise the casino would get caught!)\n",
    "    # so let's have an Dirichlet random prior with an alpha value of\n",
    "    # (0.1, 0.9) to enforce our assumption transitions happen roughly 10%\n",
    "    # of the time\n",
    "    model.transmat_ = np.array([np.random.dirichlet([0.9, 0.1]),\n",
    "                                np.random.dirichlet([0.1, 0.9])])\n",
    "    model.fit(X_train)\n",
    "    score = model.score(X_validate)\n",
    "    # print(f'Model #{idx}\\tScore: {score}')\n",
    "    if best_score is None or score > best_score:\n",
    "        best_model = model\n",
    "        best_score = score\n",
    "\n",
    "print(f'Generated score: {gen_score}\\nBest score:      {best_score}')\n",
    "\n",
    "# use the Viterbi algorithm to predict the most likely sequence of states\n",
    "# given the model\n",
    "states = best_model.predict(rolls)\n",
    "\n",
    "# plot our recovered states compared to generated (aim 1)\n",
    "fig, ax = plt.subplots()\n",
    "ax.plot(gen_states[:500], label='generated')\n",
    "ax.plot(states[:500] + 1.5, label='recovered')\n",
    "ax.set_yticks([])\n",
    "ax.set_title('States compared to generated')\n",
    "ax.set_xlabel('Time (# rolls)')\n",
    "ax.set_xlabel('State')\n",
    "ax.legend()\n",
    "fig.show()"
   ]
  },
  {
   "cell_type": "markdown",
   "id": "840c9b29-9dce-4516-84c1-d5cd8e4288d3",
   "metadata": {},
   "source": [
    "Check the learned transition probabilities:"
   ]
  },
  {
   "cell_type": "code",
   "execution_count": 16,
   "id": "79b05987-d068-487e-8c91-1d482505f1f0",
   "metadata": {},
   "outputs": [
    {
     "name": "stdout",
     "output_type": "stream",
     "text": [
      "Transmission Matrix Generated:\n",
      "[[0.95 0.05]\n",
      " [0.1  0.9 ]]\n",
      "\n",
      "Transmission Matrix Recovered:\n",
      "[[0.922 0.078]\n",
      " [0.059 0.941]]\n",
      "\n",
      "\n"
     ]
    }
   ],
   "source": [
    "print(f'Transmission Matrix Generated:\\n{gen_model.transmat_.round(3)}\\n\\n'\n",
    "      f'Transmission Matrix Recovered:\\n{best_model.transmat_.round(3)}\\n\\n')"
   ]
  },
  {
   "cell_type": "markdown",
   "id": "4c86d2dd-3a69-42a1-97df-3e24dd301eb4",
   "metadata": {},
   "source": [
    "Check if the die are loaded"
   ]
  },
  {
   "cell_type": "code",
   "execution_count": 17,
   "id": "f0d99520-3531-4bf7-a111-e80b4162b066",
   "metadata": {},
   "outputs": [
    {
     "name": "stdout",
     "output_type": "stream",
     "text": [
      "Emission Matrix Generated:\n",
      "[[0.167 0.167 0.167 0.167 0.167 0.167]\n",
      " [0.1   0.1   0.1   0.1   0.1   0.5  ]]\n",
      "\n",
      "Emission Matrix Recovered:\n",
      "[[0.106 0.108 0.114 0.105 0.113 0.454]\n",
      " [0.168 0.168 0.167 0.171 0.172 0.153]]\n",
      "\n",
      "\n"
     ]
    }
   ],
   "source": [
    "print(f'Emission Matrix Generated:\\n{gen_model.emissionprob_.round(3)}\\n\\n'\n",
    "      f'Emission Matrix Recovered:\\n{best_model.emissionprob_.round(3)}\\n\\n')"
   ]
  },
  {
   "cell_type": "code",
   "execution_count": null,
   "id": "8d4bbc40-f18c-48c7-a2fd-b1d2f8f47d81",
   "metadata": {},
   "outputs": [],
   "source": []
  }
 ],
 "metadata": {
  "kernelspec": {
   "display_name": "explore-new",
   "language": "python",
   "name": "explore-new"
  },
  "language_info": {
   "codemirror_mode": {
    "name": "ipython",
    "version": 3
   },
   "file_extension": ".py",
   "mimetype": "text/x-python",
   "name": "python",
   "nbconvert_exporter": "python",
   "pygments_lexer": "ipython3",
   "version": "3.8.13"
  }
 },
 "nbformat": 4,
 "nbformat_minor": 5
}
